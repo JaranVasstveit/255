{
 "cells": [
  {
   "cell_type": "code",
   "execution_count": 1,
   "id": "80c8749a",
   "metadata": {
    "execution": {
     "iopub.execute_input": "2023-04-29T19:50:41.208033Z",
     "iopub.status.busy": "2023-04-29T19:50:41.207467Z",
     "iopub.status.idle": "2023-04-29T19:51:06.963984Z",
     "shell.execute_reply": "2023-04-29T19:51:06.962906Z"
    },
    "papermill": {
     "duration": 25.771918,
     "end_time": "2023-04-29T19:51:06.967109",
     "exception": false,
     "start_time": "2023-04-29T19:50:41.195191",
     "status": "completed"
    },
    "tags": []
   },
   "outputs": [
    {
     "name": "stdout",
     "output_type": "stream",
     "text": [
      "Requirement already satisfied: fastai in /opt/conda/lib/python3.7/site-packages (2.7.12)\r\n",
      "Requirement already satisfied: fastcore<1.6,>=1.5.29 in /opt/conda/lib/python3.7/site-packages (from fastai) (1.5.29)\r\n",
      "Requirement already satisfied: pillow>6.0.0 in /opt/conda/lib/python3.7/site-packages (from fastai) (9.4.0)\r\n",
      "Requirement already satisfied: torchvision>=0.8.2 in /opt/conda/lib/python3.7/site-packages (from fastai) (0.14.0+cpu)\r\n",
      "Requirement already satisfied: pip in /opt/conda/lib/python3.7/site-packages (from fastai) (22.3.1)\r\n",
      "Requirement already satisfied: scipy in /opt/conda/lib/python3.7/site-packages (from fastai) (1.7.3)\r\n",
      "Requirement already satisfied: torch<2.1,>=1.7 in /opt/conda/lib/python3.7/site-packages (from fastai) (1.13.0+cpu)\r\n",
      "Requirement already satisfied: pyyaml in /opt/conda/lib/python3.7/site-packages (from fastai) (6.0)\r\n",
      "Requirement already satisfied: scikit-learn in /opt/conda/lib/python3.7/site-packages (from fastai) (1.0.2)\r\n",
      "Requirement already satisfied: spacy<4 in /opt/conda/lib/python3.7/site-packages (from fastai) (3.5.1)\r\n",
      "Requirement already satisfied: requests in /opt/conda/lib/python3.7/site-packages (from fastai) (2.28.2)\r\n",
      "Requirement already satisfied: matplotlib in /opt/conda/lib/python3.7/site-packages (from fastai) (3.5.3)\r\n",
      "Requirement already satisfied: packaging in /opt/conda/lib/python3.7/site-packages (from fastai) (23.0)\r\n",
      "Requirement already satisfied: fastdownload<2,>=0.0.5 in /opt/conda/lib/python3.7/site-packages (from fastai) (0.0.7)\r\n",
      "Requirement already satisfied: fastprogress>=0.2.4 in /opt/conda/lib/python3.7/site-packages (from fastai) (1.0.3)\r\n",
      "Requirement already satisfied: pandas in /opt/conda/lib/python3.7/site-packages (from fastai) (1.3.5)\r\n",
      "Requirement already satisfied: langcodes<4.0.0,>=3.2.0 in /opt/conda/lib/python3.7/site-packages (from spacy<4->fastai) (3.3.0)\r\n",
      "Requirement already satisfied: spacy-loggers<2.0.0,>=1.0.0 in /opt/conda/lib/python3.7/site-packages (from spacy<4->fastai) (1.0.4)\r\n",
      "Requirement already satisfied: wasabi<1.2.0,>=0.9.1 in /opt/conda/lib/python3.7/site-packages (from spacy<4->fastai) (1.1.1)\r\n",
      "Requirement already satisfied: catalogue<2.1.0,>=2.0.6 in /opt/conda/lib/python3.7/site-packages (from spacy<4->fastai) (2.0.8)\r\n",
      "Requirement already satisfied: typing-extensions<4.5.0,>=3.7.4.1 in /opt/conda/lib/python3.7/site-packages (from spacy<4->fastai) (4.4.0)\r\n",
      "Requirement already satisfied: jinja2 in /opt/conda/lib/python3.7/site-packages (from spacy<4->fastai) (3.1.2)\r\n",
      "Requirement already satisfied: setuptools in /opt/conda/lib/python3.7/site-packages (from spacy<4->fastai) (59.8.0)\r\n",
      "Requirement already satisfied: cymem<2.1.0,>=2.0.2 in /opt/conda/lib/python3.7/site-packages (from spacy<4->fastai) (2.0.7)\r\n",
      "Requirement already satisfied: thinc<8.2.0,>=8.1.8 in /opt/conda/lib/python3.7/site-packages (from spacy<4->fastai) (8.1.9)\r\n",
      "Requirement already satisfied: numpy>=1.15.0 in /opt/conda/lib/python3.7/site-packages (from spacy<4->fastai) (1.21.6)\r\n",
      "Requirement already satisfied: typer<0.8.0,>=0.3.0 in /opt/conda/lib/python3.7/site-packages (from spacy<4->fastai) (0.7.0)\r\n",
      "Requirement already satisfied: srsly<3.0.0,>=2.4.3 in /opt/conda/lib/python3.7/site-packages (from spacy<4->fastai) (2.4.6)\r\n",
      "Requirement already satisfied: pathy>=0.10.0 in /opt/conda/lib/python3.7/site-packages (from spacy<4->fastai) (0.10.1)\r\n",
      "Requirement already satisfied: tqdm<5.0.0,>=4.38.0 in /opt/conda/lib/python3.7/site-packages (from spacy<4->fastai) (4.64.1)\r\n",
      "Requirement already satisfied: spacy-legacy<3.1.0,>=3.0.11 in /opt/conda/lib/python3.7/site-packages (from spacy<4->fastai) (3.0.12)\r\n",
      "Requirement already satisfied: murmurhash<1.1.0,>=0.28.0 in /opt/conda/lib/python3.7/site-packages (from spacy<4->fastai) (1.0.9)\r\n",
      "Requirement already satisfied: pydantic!=1.8,!=1.8.1,<1.11.0,>=1.7.4 in /opt/conda/lib/python3.7/site-packages (from spacy<4->fastai) (1.10.4)\r\n",
      "Requirement already satisfied: smart-open<7.0.0,>=5.2.1 in /opt/conda/lib/python3.7/site-packages (from spacy<4->fastai) (6.3.0)\r\n",
      "Requirement already satisfied: preshed<3.1.0,>=3.0.2 in /opt/conda/lib/python3.7/site-packages (from spacy<4->fastai) (3.0.8)\r\n",
      "Requirement already satisfied: charset-normalizer<4,>=2 in /opt/conda/lib/python3.7/site-packages (from requests->fastai) (2.1.1)\r\n",
      "Requirement already satisfied: certifi>=2017.4.17 in /opt/conda/lib/python3.7/site-packages (from requests->fastai) (2022.12.7)\r\n",
      "Requirement already satisfied: urllib3<1.27,>=1.21.1 in /opt/conda/lib/python3.7/site-packages (from requests->fastai) (1.26.14)\r\n",
      "Requirement already satisfied: idna<4,>=2.5 in /opt/conda/lib/python3.7/site-packages (from requests->fastai) (3.4)\r\n",
      "Requirement already satisfied: kiwisolver>=1.0.1 in /opt/conda/lib/python3.7/site-packages (from matplotlib->fastai) (1.4.4)\r\n",
      "Requirement already satisfied: cycler>=0.10 in /opt/conda/lib/python3.7/site-packages (from matplotlib->fastai) (0.11.0)\r\n",
      "Requirement already satisfied: fonttools>=4.22.0 in /opt/conda/lib/python3.7/site-packages (from matplotlib->fastai) (4.38.0)\r\n",
      "Requirement already satisfied: pyparsing>=2.2.1 in /opt/conda/lib/python3.7/site-packages (from matplotlib->fastai) (3.0.9)\r\n",
      "Requirement already satisfied: python-dateutil>=2.7 in /opt/conda/lib/python3.7/site-packages (from matplotlib->fastai) (2.8.2)\r\n",
      "Requirement already satisfied: pytz>=2017.3 in /opt/conda/lib/python3.7/site-packages (from pandas->fastai) (2022.7.1)\r\n",
      "Requirement already satisfied: threadpoolctl>=2.0.0 in /opt/conda/lib/python3.7/site-packages (from scikit-learn->fastai) (3.1.0)\r\n",
      "Requirement already satisfied: joblib>=0.11 in /opt/conda/lib/python3.7/site-packages (from scikit-learn->fastai) (1.2.0)\r\n",
      "Requirement already satisfied: zipp>=0.5 in /opt/conda/lib/python3.7/site-packages (from catalogue<2.1.0,>=2.0.6->spacy<4->fastai) (3.11.0)\r\n",
      "Requirement already satisfied: six>=1.5 in /opt/conda/lib/python3.7/site-packages (from python-dateutil>=2.7->matplotlib->fastai) (1.16.0)\r\n",
      "Requirement already satisfied: confection<1.0.0,>=0.0.1 in /opt/conda/lib/python3.7/site-packages (from thinc<8.2.0,>=8.1.8->spacy<4->fastai) (0.0.4)\r\n",
      "Requirement already satisfied: blis<0.8.0,>=0.7.8 in /opt/conda/lib/python3.7/site-packages (from thinc<8.2.0,>=8.1.8->spacy<4->fastai) (0.7.9)\r\n",
      "Requirement already satisfied: click<9.0.0,>=7.1.1 in /opt/conda/lib/python3.7/site-packages (from typer<0.8.0,>=0.3.0->spacy<4->fastai) (8.1.3)\r\n",
      "Requirement already satisfied: MarkupSafe>=2.0 in /opt/conda/lib/python3.7/site-packages (from jinja2->spacy<4->fastai) (2.1.1)\r\n",
      "Requirement already satisfied: importlib-metadata in /opt/conda/lib/python3.7/site-packages (from click<9.0.0,>=7.1.1->typer<0.8.0,>=0.3.0->spacy<4->fastai) (4.11.4)\r\n",
      "\u001b[33mWARNING: Running pip as the 'root' user can result in broken permissions and conflicting behaviour with the system package manager. It is recommended to use a virtual environment instead: https://pip.pypa.io/warnings/venv\u001b[0m\u001b[33m\r\n",
      "\u001b[0mCollecting rdkit\r\n",
      "  Downloading rdkit-2022.9.5-cp37-cp37m-manylinux_2_17_x86_64.manylinux2014_x86_64.whl (29.2 MB)\r\n",
      "\u001b[2K     \u001b[90m━━━━━━━━━━━━━━━━━━━━━━━━━━━━━━━━━━━━━━━━\u001b[0m \u001b[32m29.2/29.2 MB\u001b[0m \u001b[31m37.6 MB/s\u001b[0m eta \u001b[36m0:00:00\u001b[0m\r\n",
      "\u001b[?25hRequirement already satisfied: Pillow in /opt/conda/lib/python3.7/site-packages (from rdkit) (9.4.0)\r\n",
      "Requirement already satisfied: numpy in /opt/conda/lib/python3.7/site-packages (from rdkit) (1.21.6)\r\n",
      "Installing collected packages: rdkit\r\n",
      "Successfully installed rdkit-2022.9.5\r\n",
      "\u001b[33mWARNING: Running pip as the 'root' user can result in broken permissions and conflicting behaviour with the system package manager. It is recommended to use a virtual environment instead: https://pip.pypa.io/warnings/venv\u001b[0m\u001b[33m\r\n",
      "\u001b[0m"
     ]
    }
   ],
   "source": [
    "!pip install fastai\n",
    "!pip install rdkit"
   ]
  },
  {
   "cell_type": "code",
   "execution_count": 2,
   "id": "fd51e16b",
   "metadata": {
    "execution": {
     "iopub.execute_input": "2023-04-29T19:51:06.992754Z",
     "iopub.status.busy": "2023-04-29T19:51:06.991901Z",
     "iopub.status.idle": "2023-04-29T19:51:10.568415Z",
     "shell.execute_reply": "2023-04-29T19:51:10.567260Z"
    },
    "papermill": {
     "duration": 3.592576,
     "end_time": "2023-04-29T19:51:10.571148",
     "exception": false,
     "start_time": "2023-04-29T19:51:06.978572",
     "status": "completed"
    },
    "tags": []
   },
   "outputs": [],
   "source": [
    "from fastai.tabular.all import *\n",
    "from fastai.text.all import *\n",
    "from rdkit.Chem import Descriptors, MolFromSmiles"
   ]
  },
  {
   "cell_type": "code",
   "execution_count": 3,
   "id": "71f2dfce",
   "metadata": {
    "execution": {
     "iopub.execute_input": "2023-04-29T19:51:10.595445Z",
     "iopub.status.busy": "2023-04-29T19:51:10.594498Z",
     "iopub.status.idle": "2023-04-29T19:51:10.607274Z",
     "shell.execute_reply": "2023-04-29T19:51:10.606045Z"
    },
    "papermill": {
     "duration": 0.027385,
     "end_time": "2023-04-29T19:51:10.609588",
     "exception": false,
     "start_time": "2023-04-29T19:51:10.582203",
     "status": "completed"
    },
    "tags": []
   },
   "outputs": [
    {
     "name": "stdout",
     "output_type": "stream",
     "text": [
      "/kaggle/input/bioactivity-data/PPARg_bioactivity_data_nM.csv\n",
      "/kaggle/input/bioactivity-data/PPARg_bioactivity_data_no_missing_data_values .csv\n"
     ]
    }
   ],
   "source": [
    "import os\n",
    "for dirname, _, filenames in os.walk('/kaggle/input'):\n",
    "    for filename in filenames:\n",
    "        print(os.path.join(dirname, filename))\n"
   ]
  },
  {
   "cell_type": "code",
   "execution_count": 4,
   "id": "038bb6f8",
   "metadata": {
    "execution": {
     "iopub.execute_input": "2023-04-29T19:51:10.635138Z",
     "iopub.status.busy": "2023-04-29T19:51:10.634738Z",
     "iopub.status.idle": "2023-04-29T19:51:10.676829Z",
     "shell.execute_reply": "2023-04-29T19:51:10.675839Z"
    },
    "papermill": {
     "duration": 0.059063,
     "end_time": "2023-04-29T19:51:10.679525",
     "exception": false,
     "start_time": "2023-04-29T19:51:10.620462",
     "status": "completed"
    },
    "tags": []
   },
   "outputs": [],
   "source": [
    "biodata = pd.read_csv('/kaggle/input/bioactivity-data/PPARg_bioactivity_data_nM.csv')"
   ]
  },
  {
   "cell_type": "markdown",
   "id": "071b3d75",
   "metadata": {
    "papermill": {
     "duration": 0.01063,
     "end_time": "2023-04-29T19:51:10.702259",
     "exception": false,
     "start_time": "2023-04-29T19:51:10.691629",
     "status": "completed"
    },
    "tags": []
   },
   "source": [
    "# se på data"
   ]
  },
  {
   "cell_type": "code",
   "execution_count": 5,
   "id": "6949ea03",
   "metadata": {
    "execution": {
     "iopub.execute_input": "2023-04-29T19:51:10.726283Z",
     "iopub.status.busy": "2023-04-29T19:51:10.725475Z",
     "iopub.status.idle": "2023-04-29T19:51:10.730832Z",
     "shell.execute_reply": "2023-04-29T19:51:10.729706Z"
    },
    "papermill": {
     "duration": 0.019946,
     "end_time": "2023-04-29T19:51:10.733159",
     "exception": false,
     "start_time": "2023-04-29T19:51:10.713213",
     "status": "completed"
    },
    "tags": []
   },
   "outputs": [],
   "source": [
    "pd.set_option('display.max_columns', None)"
   ]
  },
  {
   "cell_type": "code",
   "execution_count": 6,
   "id": "8300305b",
   "metadata": {
    "execution": {
     "iopub.execute_input": "2023-04-29T19:51:10.757428Z",
     "iopub.status.busy": "2023-04-29T19:51:10.756619Z",
     "iopub.status.idle": "2023-04-29T19:51:10.784042Z",
     "shell.execute_reply": "2023-04-29T19:51:10.782850Z"
    },
    "papermill": {
     "duration": 0.042299,
     "end_time": "2023-04-29T19:51:10.786501",
     "exception": false,
     "start_time": "2023-04-29T19:51:10.744202",
     "status": "completed"
    },
    "tags": []
   },
   "outputs": [
    {
     "data": {
      "text/plain": [
       "activity_comment               50\n",
       "activity_id                  1445\n",
       "activity_properties             3\n",
       "assay_chembl_id               127\n",
       "assay_description             122\n",
       "assay_type                      3\n",
       "assay_variant_accession         0\n",
       "assay_variant_mutation          0\n",
       "bao_endpoint                    2\n",
       "bao_format                      3\n",
       "bao_label                       3\n",
       "canonical_smiles             1247\n",
       "data_validity_comment           1\n",
       "data_validity_description       1\n",
       "document_chembl_id             99\n",
       "document_journal               13\n",
       "document_year                  19\n",
       "ligand_efficiency             673\n",
       "molecule_chembl_id           1247\n",
       "molecule_pref_name             28\n",
       "parent_molecule_chembl_id    1247\n",
       "pchembl_value                 341\n",
       "potential_duplicate             2\n",
       "qudt_units                      1\n",
       "record_id                    1378\n",
       "relation                        4\n",
       "src_id                          2\n",
       "standard_flag                   1\n",
       "standard_relation               4\n",
       "standard_text_value             0\n",
       "standard_type                   1\n",
       "standard_units                  1\n",
       "standard_upper_value            0\n",
       "standard_value                657\n",
       "target_chembl_id                1\n",
       "target_organism                 1\n",
       "target_pref_name                1\n",
       "target_tax_id                   1\n",
       "text_value                      0\n",
       "toid                            0\n",
       "type                            1\n",
       "units                           1\n",
       "uo_units                        1\n",
       "upper_value                     4\n",
       "value                         657\n",
       "dtype: int64"
      ]
     },
     "execution_count": 6,
     "metadata": {},
     "output_type": "execute_result"
    }
   ],
   "source": [
    "biodata.nunique()"
   ]
  },
  {
   "cell_type": "code",
   "execution_count": 7,
   "id": "c1f44fa2",
   "metadata": {
    "execution": {
     "iopub.execute_input": "2023-04-29T19:51:10.810546Z",
     "iopub.status.busy": "2023-04-29T19:51:10.810140Z",
     "iopub.status.idle": "2023-04-29T19:51:10.827529Z",
     "shell.execute_reply": "2023-04-29T19:51:10.826159Z"
    },
    "papermill": {
     "duration": 0.032444,
     "end_time": "2023-04-29T19:51:10.830029",
     "exception": false,
     "start_time": "2023-04-29T19:51:10.797585",
     "status": "completed"
    },
    "tags": []
   },
   "outputs": [
    {
     "name": "stdout",
     "output_type": "stream",
     "text": [
      "['data_validity_comment', 'data_validity_description', 'qudt_units', 'standard_flag', 'standard_type', 'standard_units', 'target_chembl_id', 'target_organism', 'target_pref_name', 'target_tax_id', 'type', 'units', 'uo_units']\n"
     ]
    }
   ],
   "source": [
    "unik = biodata.nunique()\n",
    "unikkol = unik[unik == 1].index\n",
    "print(unikkol.tolist())"
   ]
  },
  {
   "cell_type": "code",
   "execution_count": 8,
   "id": "3aec1034",
   "metadata": {
    "execution": {
     "iopub.execute_input": "2023-04-29T19:51:10.854675Z",
     "iopub.status.busy": "2023-04-29T19:51:10.853581Z",
     "iopub.status.idle": "2023-04-29T19:51:10.923154Z",
     "shell.execute_reply": "2023-04-29T19:51:10.922179Z"
    },
    "papermill": {
     "duration": 0.084234,
     "end_time": "2023-04-29T19:51:10.925397",
     "exception": false,
     "start_time": "2023-04-29T19:51:10.841163",
     "status": "completed"
    },
    "tags": []
   },
   "outputs": [
    {
     "data": {
      "text/html": [
       "<div>\n",
       "<style scoped>\n",
       "    .dataframe tbody tr th:only-of-type {\n",
       "        vertical-align: middle;\n",
       "    }\n",
       "\n",
       "    .dataframe tbody tr th {\n",
       "        vertical-align: top;\n",
       "    }\n",
       "\n",
       "    .dataframe thead th {\n",
       "        text-align: right;\n",
       "    }\n",
       "</style>\n",
       "<table border=\"1\" class=\"dataframe\">\n",
       "  <thead>\n",
       "    <tr style=\"text-align: right;\">\n",
       "      <th></th>\n",
       "      <th>activity_comment</th>\n",
       "      <th>activity_id</th>\n",
       "      <th>activity_properties</th>\n",
       "      <th>assay_chembl_id</th>\n",
       "      <th>assay_description</th>\n",
       "      <th>assay_type</th>\n",
       "      <th>assay_variant_accession</th>\n",
       "      <th>assay_variant_mutation</th>\n",
       "      <th>bao_endpoint</th>\n",
       "      <th>bao_format</th>\n",
       "      <th>bao_label</th>\n",
       "      <th>canonical_smiles</th>\n",
       "      <th>data_validity_comment</th>\n",
       "      <th>data_validity_description</th>\n",
       "      <th>document_chembl_id</th>\n",
       "      <th>document_journal</th>\n",
       "      <th>document_year</th>\n",
       "      <th>ligand_efficiency</th>\n",
       "      <th>molecule_chembl_id</th>\n",
       "      <th>molecule_pref_name</th>\n",
       "      <th>parent_molecule_chembl_id</th>\n",
       "      <th>pchembl_value</th>\n",
       "      <th>potential_duplicate</th>\n",
       "      <th>qudt_units</th>\n",
       "      <th>record_id</th>\n",
       "      <th>relation</th>\n",
       "      <th>src_id</th>\n",
       "      <th>standard_flag</th>\n",
       "      <th>standard_relation</th>\n",
       "      <th>standard_text_value</th>\n",
       "      <th>standard_type</th>\n",
       "      <th>standard_units</th>\n",
       "      <th>standard_upper_value</th>\n",
       "      <th>standard_value</th>\n",
       "      <th>target_chembl_id</th>\n",
       "      <th>target_organism</th>\n",
       "      <th>target_pref_name</th>\n",
       "      <th>target_tax_id</th>\n",
       "      <th>text_value</th>\n",
       "      <th>toid</th>\n",
       "      <th>type</th>\n",
       "      <th>units</th>\n",
       "      <th>uo_units</th>\n",
       "      <th>upper_value</th>\n",
       "      <th>value</th>\n",
       "    </tr>\n",
       "  </thead>\n",
       "  <tbody>\n",
       "    <tr>\n",
       "      <th>0</th>\n",
       "      <td>NaN</td>\n",
       "      <td>32233</td>\n",
       "      <td>[]</td>\n",
       "      <td>CHEMBL658541</td>\n",
       "      <td>In vitro agonist efficacy against PPAR gamma along with 100 nM BRL-49653</td>\n",
       "      <td>F</td>\n",
       "      <td>NaN</td>\n",
       "      <td>NaN</td>\n",
       "      <td>BAO_0000188</td>\n",
       "      <td>BAO_0000019</td>\n",
       "      <td>assay format</td>\n",
       "      <td>CC(/C=C/C(F)=C(/C)c1cc(C(C)(C)C)cc(C(C)(C)C)c1OCC(F)F)=C\\C(=O)O</td>\n",
       "      <td>NaN</td>\n",
       "      <td>NaN</td>\n",
       "      <td>CHEMBL1136440</td>\n",
       "      <td>Bioorg. Med. Chem. Lett.</td>\n",
       "      <td>2003</td>\n",
       "      <td>NaN</td>\n",
       "      <td>CHEMBL111217</td>\n",
       "      <td>NaN</td>\n",
       "      <td>CHEMBL111217</td>\n",
       "      <td>7.20</td>\n",
       "      <td>0</td>\n",
       "      <td>http://www.openphacts.org/units/Nanomolar</td>\n",
       "      <td>251326</td>\n",
       "      <td>=</td>\n",
       "      <td>1</td>\n",
       "      <td>1</td>\n",
       "      <td>=</td>\n",
       "      <td>NaN</td>\n",
       "      <td>EC50</td>\n",
       "      <td>nM</td>\n",
       "      <td>NaN</td>\n",
       "      <td>63.0</td>\n",
       "      <td>CHEMBL235</td>\n",
       "      <td>Homo sapiens</td>\n",
       "      <td>Peroxisome proliferator-activated receptor gamma</td>\n",
       "      <td>9606</td>\n",
       "      <td>NaN</td>\n",
       "      <td>NaN</td>\n",
       "      <td>EC50</td>\n",
       "      <td>nM</td>\n",
       "      <td>UO_0000065</td>\n",
       "      <td>NaN</td>\n",
       "      <td>63.0</td>\n",
       "    </tr>\n",
       "    <tr>\n",
       "      <th>1</th>\n",
       "      <td>NaN</td>\n",
       "      <td>32234</td>\n",
       "      <td>[]</td>\n",
       "      <td>CHEMBL656170</td>\n",
       "      <td>In vitro agonistic activity against PPAR gamma along with 100 nM BRL-49653</td>\n",
       "      <td>F</td>\n",
       "      <td>NaN</td>\n",
       "      <td>NaN</td>\n",
       "      <td>BAO_0000188</td>\n",
       "      <td>BAO_0000019</td>\n",
       "      <td>assay format</td>\n",
       "      <td>CC(/C=C/C(F)=C(/C)c1cc(C(C)(C)C)cc(C(C)(C)C)c1OCC(F)F)=C\\C(=O)O</td>\n",
       "      <td>NaN</td>\n",
       "      <td>NaN</td>\n",
       "      <td>CHEMBL1136440</td>\n",
       "      <td>Bioorg. Med. Chem. Lett.</td>\n",
       "      <td>2003</td>\n",
       "      <td>NaN</td>\n",
       "      <td>CHEMBL111217</td>\n",
       "      <td>NaN</td>\n",
       "      <td>CHEMBL111217</td>\n",
       "      <td>8.19</td>\n",
       "      <td>0</td>\n",
       "      <td>http://www.openphacts.org/units/Nanomolar</td>\n",
       "      <td>251326</td>\n",
       "      <td>=</td>\n",
       "      <td>1</td>\n",
       "      <td>1</td>\n",
       "      <td>=</td>\n",
       "      <td>NaN</td>\n",
       "      <td>EC50</td>\n",
       "      <td>nM</td>\n",
       "      <td>NaN</td>\n",
       "      <td>6.4</td>\n",
       "      <td>CHEMBL235</td>\n",
       "      <td>Homo sapiens</td>\n",
       "      <td>Peroxisome proliferator-activated receptor gamma</td>\n",
       "      <td>9606</td>\n",
       "      <td>NaN</td>\n",
       "      <td>NaN</td>\n",
       "      <td>EC50</td>\n",
       "      <td>nM</td>\n",
       "      <td>UO_0000065</td>\n",
       "      <td>NaN</td>\n",
       "      <td>6.4</td>\n",
       "    </tr>\n",
       "    <tr>\n",
       "      <th>2</th>\n",
       "      <td>NaN</td>\n",
       "      <td>33386</td>\n",
       "      <td>[]</td>\n",
       "      <td>CHEMBL658541</td>\n",
       "      <td>In vitro agonist efficacy against PPAR gamma along with 100 nM BRL-49653</td>\n",
       "      <td>F</td>\n",
       "      <td>NaN</td>\n",
       "      <td>NaN</td>\n",
       "      <td>BAO_0000188</td>\n",
       "      <td>BAO_0000019</td>\n",
       "      <td>assay format</td>\n",
       "      <td>CCC(C)(C)c1cc(/C(C)=C(F)\\C=C\\C(C)=C\\C(=O)O)c(OCC(F)F)c(C(C)(C)CC)c1</td>\n",
       "      <td>NaN</td>\n",
       "      <td>NaN</td>\n",
       "      <td>CHEMBL1136440</td>\n",
       "      <td>Bioorg. Med. Chem. Lett.</td>\n",
       "      <td>2003</td>\n",
       "      <td>NaN</td>\n",
       "      <td>CHEMBL130231</td>\n",
       "      <td>NaN</td>\n",
       "      <td>CHEMBL130231</td>\n",
       "      <td>7.29</td>\n",
       "      <td>0</td>\n",
       "      <td>http://www.openphacts.org/units/Nanomolar</td>\n",
       "      <td>251310</td>\n",
       "      <td>=</td>\n",
       "      <td>1</td>\n",
       "      <td>1</td>\n",
       "      <td>=</td>\n",
       "      <td>NaN</td>\n",
       "      <td>EC50</td>\n",
       "      <td>nM</td>\n",
       "      <td>NaN</td>\n",
       "      <td>51.0</td>\n",
       "      <td>CHEMBL235</td>\n",
       "      <td>Homo sapiens</td>\n",
       "      <td>Peroxisome proliferator-activated receptor gamma</td>\n",
       "      <td>9606</td>\n",
       "      <td>NaN</td>\n",
       "      <td>NaN</td>\n",
       "      <td>EC50</td>\n",
       "      <td>nM</td>\n",
       "      <td>UO_0000065</td>\n",
       "      <td>NaN</td>\n",
       "      <td>51.0</td>\n",
       "    </tr>\n",
       "    <tr>\n",
       "      <th>3</th>\n",
       "      <td>NaN</td>\n",
       "      <td>33387</td>\n",
       "      <td>[]</td>\n",
       "      <td>CHEMBL656170</td>\n",
       "      <td>In vitro agonistic activity against PPAR gamma along with 100 nM BRL-49653</td>\n",
       "      <td>F</td>\n",
       "      <td>NaN</td>\n",
       "      <td>NaN</td>\n",
       "      <td>BAO_0000188</td>\n",
       "      <td>BAO_0000019</td>\n",
       "      <td>assay format</td>\n",
       "      <td>CCC(C)(C)c1cc(/C(C)=C(F)\\C=C\\C(C)=C\\C(=O)O)c(OCC(F)F)c(C(C)(C)CC)c1</td>\n",
       "      <td>NaN</td>\n",
       "      <td>NaN</td>\n",
       "      <td>CHEMBL1136440</td>\n",
       "      <td>Bioorg. Med. Chem. Lett.</td>\n",
       "      <td>2003</td>\n",
       "      <td>NaN</td>\n",
       "      <td>CHEMBL130231</td>\n",
       "      <td>NaN</td>\n",
       "      <td>CHEMBL130231</td>\n",
       "      <td>8.57</td>\n",
       "      <td>0</td>\n",
       "      <td>http://www.openphacts.org/units/Nanomolar</td>\n",
       "      <td>251310</td>\n",
       "      <td>=</td>\n",
       "      <td>1</td>\n",
       "      <td>1</td>\n",
       "      <td>=</td>\n",
       "      <td>NaN</td>\n",
       "      <td>EC50</td>\n",
       "      <td>nM</td>\n",
       "      <td>NaN</td>\n",
       "      <td>2.7</td>\n",
       "      <td>CHEMBL235</td>\n",
       "      <td>Homo sapiens</td>\n",
       "      <td>Peroxisome proliferator-activated receptor gamma</td>\n",
       "      <td>9606</td>\n",
       "      <td>NaN</td>\n",
       "      <td>NaN</td>\n",
       "      <td>EC50</td>\n",
       "      <td>nM</td>\n",
       "      <td>UO_0000065</td>\n",
       "      <td>NaN</td>\n",
       "      <td>2.7</td>\n",
       "    </tr>\n",
       "    <tr>\n",
       "      <th>4</th>\n",
       "      <td>NaN</td>\n",
       "      <td>35892</td>\n",
       "      <td>[]</td>\n",
       "      <td>CHEMBL658541</td>\n",
       "      <td>In vitro agonist efficacy against PPAR gamma along with 100 nM BRL-49653</td>\n",
       "      <td>F</td>\n",
       "      <td>NaN</td>\n",
       "      <td>NaN</td>\n",
       "      <td>BAO_0000188</td>\n",
       "      <td>BAO_0000019</td>\n",
       "      <td>assay format</td>\n",
       "      <td>C/C(=C/C=C/C(C)=C/C(=O)O)c1cc(-c2cc(F)cc(F)c2)cc(C(C)C)c1OCC(F)F</td>\n",
       "      <td>NaN</td>\n",
       "      <td>NaN</td>\n",
       "      <td>CHEMBL1136440</td>\n",
       "      <td>Bioorg. Med. Chem. Lett.</td>\n",
       "      <td>2003</td>\n",
       "      <td>NaN</td>\n",
       "      <td>CHEMBL337393</td>\n",
       "      <td>NaN</td>\n",
       "      <td>CHEMBL337393</td>\n",
       "      <td>7.40</td>\n",
       "      <td>0</td>\n",
       "      <td>http://www.openphacts.org/units/Nanomolar</td>\n",
       "      <td>251312</td>\n",
       "      <td>=</td>\n",
       "      <td>1</td>\n",
       "      <td>1</td>\n",
       "      <td>=</td>\n",
       "      <td>NaN</td>\n",
       "      <td>EC50</td>\n",
       "      <td>nM</td>\n",
       "      <td>NaN</td>\n",
       "      <td>40.0</td>\n",
       "      <td>CHEMBL235</td>\n",
       "      <td>Homo sapiens</td>\n",
       "      <td>Peroxisome proliferator-activated receptor gamma</td>\n",
       "      <td>9606</td>\n",
       "      <td>NaN</td>\n",
       "      <td>NaN</td>\n",
       "      <td>EC50</td>\n",
       "      <td>nM</td>\n",
       "      <td>UO_0000065</td>\n",
       "      <td>NaN</td>\n",
       "      <td>40.0</td>\n",
       "    </tr>\n",
       "    <tr>\n",
       "      <th>...</th>\n",
       "      <td>...</td>\n",
       "      <td>...</td>\n",
       "      <td>...</td>\n",
       "      <td>...</td>\n",
       "      <td>...</td>\n",
       "      <td>...</td>\n",
       "      <td>...</td>\n",
       "      <td>...</td>\n",
       "      <td>...</td>\n",
       "      <td>...</td>\n",
       "      <td>...</td>\n",
       "      <td>...</td>\n",
       "      <td>...</td>\n",
       "      <td>...</td>\n",
       "      <td>...</td>\n",
       "      <td>...</td>\n",
       "      <td>...</td>\n",
       "      <td>...</td>\n",
       "      <td>...</td>\n",
       "      <td>...</td>\n",
       "      <td>...</td>\n",
       "      <td>...</td>\n",
       "      <td>...</td>\n",
       "      <td>...</td>\n",
       "      <td>...</td>\n",
       "      <td>...</td>\n",
       "      <td>...</td>\n",
       "      <td>...</td>\n",
       "      <td>...</td>\n",
       "      <td>...</td>\n",
       "      <td>...</td>\n",
       "      <td>...</td>\n",
       "      <td>...</td>\n",
       "      <td>...</td>\n",
       "      <td>...</td>\n",
       "      <td>...</td>\n",
       "      <td>...</td>\n",
       "      <td>...</td>\n",
       "      <td>...</td>\n",
       "      <td>...</td>\n",
       "      <td>...</td>\n",
       "      <td>...</td>\n",
       "      <td>...</td>\n",
       "      <td>...</td>\n",
       "      <td>...</td>\n",
       "    </tr>\n",
       "    <tr>\n",
       "      <th>995</th>\n",
       "      <td>NaN</td>\n",
       "      <td>15042190</td>\n",
       "      <td>[]</td>\n",
       "      <td>CHEMBL3369562</td>\n",
       "      <td>Agonist activity at human PPARgamma</td>\n",
       "      <td>B</td>\n",
       "      <td>NaN</td>\n",
       "      <td>NaN</td>\n",
       "      <td>BAO_0000188</td>\n",
       "      <td>BAO_0000357</td>\n",
       "      <td>single protein format</td>\n",
       "      <td>CCCOc1ccc(C[C@@H](Cc2ccccc2)C(=O)O)cc1CNC(=O)c1ccc(N2CC(C)(C)CC(C)(C)C2)cc1</td>\n",
       "      <td>NaN</td>\n",
       "      <td>NaN</td>\n",
       "      <td>CHEMBL3351353</td>\n",
       "      <td>Bioorg. Med. Chem. Lett.</td>\n",
       "      <td>2014</td>\n",
       "      <td>{'bei': '15.17', 'le': '0.28', 'lle': '1.51', 'sei': '10.98'}</td>\n",
       "      <td>CHEMBL3317863</td>\n",
       "      <td>NaN</td>\n",
       "      <td>CHEMBL3317863</td>\n",
       "      <td>8.66</td>\n",
       "      <td>0</td>\n",
       "      <td>http://www.openphacts.org/units/Nanomolar</td>\n",
       "      <td>2246640</td>\n",
       "      <td>=</td>\n",
       "      <td>1</td>\n",
       "      <td>1</td>\n",
       "      <td>=</td>\n",
       "      <td>NaN</td>\n",
       "      <td>EC50</td>\n",
       "      <td>nM</td>\n",
       "      <td>NaN</td>\n",
       "      <td>2.2</td>\n",
       "      <td>CHEMBL235</td>\n",
       "      <td>Homo sapiens</td>\n",
       "      <td>Peroxisome proliferator-activated receptor gamma</td>\n",
       "      <td>9606</td>\n",
       "      <td>NaN</td>\n",
       "      <td>NaN</td>\n",
       "      <td>EC50</td>\n",
       "      <td>nM</td>\n",
       "      <td>UO_0000065</td>\n",
       "      <td>NaN</td>\n",
       "      <td>2.2</td>\n",
       "    </tr>\n",
       "    <tr>\n",
       "      <th>996</th>\n",
       "      <td>NaN</td>\n",
       "      <td>15042191</td>\n",
       "      <td>[]</td>\n",
       "      <td>CHEMBL3369562</td>\n",
       "      <td>Agonist activity at human PPARgamma</td>\n",
       "      <td>B</td>\n",
       "      <td>NaN</td>\n",
       "      <td>NaN</td>\n",
       "      <td>BAO_0000188</td>\n",
       "      <td>BAO_0000357</td>\n",
       "      <td>single protein format</td>\n",
       "      <td>CCCOc1ccc(C[C@@H](Cc2ccccc2)C(=O)O)cc1CNC(=O)c1ccc(N2CCC(C)(C)CC2)cc1</td>\n",
       "      <td>NaN</td>\n",
       "      <td>NaN</td>\n",
       "      <td>CHEMBL3351353</td>\n",
       "      <td>Bioorg. Med. Chem. Lett.</td>\n",
       "      <td>2014</td>\n",
       "      <td>{'bei': '14.71', 'le': '0.27', 'lle': '1.46', 'sei': '10.12'}</td>\n",
       "      <td>CHEMBL3317862</td>\n",
       "      <td>NaN</td>\n",
       "      <td>CHEMBL3317862</td>\n",
       "      <td>7.98</td>\n",
       "      <td>0</td>\n",
       "      <td>http://www.openphacts.org/units/Nanomolar</td>\n",
       "      <td>2246639</td>\n",
       "      <td>=</td>\n",
       "      <td>1</td>\n",
       "      <td>1</td>\n",
       "      <td>=</td>\n",
       "      <td>NaN</td>\n",
       "      <td>EC50</td>\n",
       "      <td>nM</td>\n",
       "      <td>NaN</td>\n",
       "      <td>10.4</td>\n",
       "      <td>CHEMBL235</td>\n",
       "      <td>Homo sapiens</td>\n",
       "      <td>Peroxisome proliferator-activated receptor gamma</td>\n",
       "      <td>9606</td>\n",
       "      <td>NaN</td>\n",
       "      <td>NaN</td>\n",
       "      <td>EC50</td>\n",
       "      <td>nM</td>\n",
       "      <td>UO_0000065</td>\n",
       "      <td>NaN</td>\n",
       "      <td>10.4</td>\n",
       "    </tr>\n",
       "    <tr>\n",
       "      <th>997</th>\n",
       "      <td>NaN</td>\n",
       "      <td>15042192</td>\n",
       "      <td>[]</td>\n",
       "      <td>CHEMBL3369562</td>\n",
       "      <td>Agonist activity at human PPARgamma</td>\n",
       "      <td>B</td>\n",
       "      <td>NaN</td>\n",
       "      <td>NaN</td>\n",
       "      <td>BAO_0000188</td>\n",
       "      <td>BAO_0000357</td>\n",
       "      <td>single protein format</td>\n",
       "      <td>CCCOc1ccc(C[C@@H](Cc2ccccc2)C(=O)O)cc1CNC(=O)c1ccc(N2CCCC(C)(C)C2)cc1</td>\n",
       "      <td>NaN</td>\n",
       "      <td>NaN</td>\n",
       "      <td>CHEMBL3351353</td>\n",
       "      <td>Bioorg. Med. Chem. Lett.</td>\n",
       "      <td>2014</td>\n",
       "      <td>{'bei': '15.03', 'le': '0.28', 'lle': '1.63', 'sei': '10.34'}</td>\n",
       "      <td>CHEMBL3317861</td>\n",
       "      <td>NaN</td>\n",
       "      <td>CHEMBL3317861</td>\n",
       "      <td>8.15</td>\n",
       "      <td>0</td>\n",
       "      <td>http://www.openphacts.org/units/Nanomolar</td>\n",
       "      <td>2246638</td>\n",
       "      <td>=</td>\n",
       "      <td>1</td>\n",
       "      <td>1</td>\n",
       "      <td>=</td>\n",
       "      <td>NaN</td>\n",
       "      <td>EC50</td>\n",
       "      <td>nM</td>\n",
       "      <td>NaN</td>\n",
       "      <td>7.0</td>\n",
       "      <td>CHEMBL235</td>\n",
       "      <td>Homo sapiens</td>\n",
       "      <td>Peroxisome proliferator-activated receptor gamma</td>\n",
       "      <td>9606</td>\n",
       "      <td>NaN</td>\n",
       "      <td>NaN</td>\n",
       "      <td>EC50</td>\n",
       "      <td>nM</td>\n",
       "      <td>UO_0000065</td>\n",
       "      <td>NaN</td>\n",
       "      <td>7.0</td>\n",
       "    </tr>\n",
       "    <tr>\n",
       "      <th>998</th>\n",
       "      <td>NaN</td>\n",
       "      <td>15042193</td>\n",
       "      <td>[]</td>\n",
       "      <td>CHEMBL3369562</td>\n",
       "      <td>Agonist activity at human PPARgamma</td>\n",
       "      <td>B</td>\n",
       "      <td>NaN</td>\n",
       "      <td>NaN</td>\n",
       "      <td>BAO_0000188</td>\n",
       "      <td>BAO_0000357</td>\n",
       "      <td>single protein format</td>\n",
       "      <td>CCCOc1ccc(C[C@@H](Cc2ccccc2)C(=O)O)cc1CNC(=O)c1ccc(N2CCCCCCCC2)cc1</td>\n",
       "      <td>NaN</td>\n",
       "      <td>NaN</td>\n",
       "      <td>CHEMBL3351353</td>\n",
       "      <td>Bioorg. Med. Chem. Lett.</td>\n",
       "      <td>2014</td>\n",
       "      <td>{'bei': '13.31', 'le': '0.25', 'lle': '0.36', 'sei': '9.40'}</td>\n",
       "      <td>CHEMBL3317455</td>\n",
       "      <td>NaN</td>\n",
       "      <td>CHEMBL3317455</td>\n",
       "      <td>7.41</td>\n",
       "      <td>0</td>\n",
       "      <td>http://www.openphacts.org/units/Nanomolar</td>\n",
       "      <td>2246637</td>\n",
       "      <td>=</td>\n",
       "      <td>1</td>\n",
       "      <td>1</td>\n",
       "      <td>=</td>\n",
       "      <td>NaN</td>\n",
       "      <td>EC50</td>\n",
       "      <td>nM</td>\n",
       "      <td>NaN</td>\n",
       "      <td>38.9</td>\n",
       "      <td>CHEMBL235</td>\n",
       "      <td>Homo sapiens</td>\n",
       "      <td>Peroxisome proliferator-activated receptor gamma</td>\n",
       "      <td>9606</td>\n",
       "      <td>NaN</td>\n",
       "      <td>NaN</td>\n",
       "      <td>EC50</td>\n",
       "      <td>nM</td>\n",
       "      <td>UO_0000065</td>\n",
       "      <td>NaN</td>\n",
       "      <td>38.9</td>\n",
       "    </tr>\n",
       "    <tr>\n",
       "      <th>999</th>\n",
       "      <td>NaN</td>\n",
       "      <td>15042194</td>\n",
       "      <td>[]</td>\n",
       "      <td>CHEMBL3369562</td>\n",
       "      <td>Agonist activity at human PPARgamma</td>\n",
       "      <td>B</td>\n",
       "      <td>NaN</td>\n",
       "      <td>NaN</td>\n",
       "      <td>BAO_0000188</td>\n",
       "      <td>BAO_0000357</td>\n",
       "      <td>single protein format</td>\n",
       "      <td>CCCOc1ccc(C[C@@H](Cc2ccccc2)C(=O)O)cc1CNC(=O)c1ccc(N2CCCCCCC2)cc1</td>\n",
       "      <td>NaN</td>\n",
       "      <td>NaN</td>\n",
       "      <td>CHEMBL3351353</td>\n",
       "      <td>Bioorg. Med. Chem. Lett.</td>\n",
       "      <td>2014</td>\n",
       "      <td>{'bei': '16.07', 'le': '0.30', 'lle': '2.06', 'sei': '11.06'}</td>\n",
       "      <td>CHEMBL3317860</td>\n",
       "      <td>NaN</td>\n",
       "      <td>CHEMBL3317860</td>\n",
       "      <td>8.72</td>\n",
       "      <td>0</td>\n",
       "      <td>http://www.openphacts.org/units/Nanomolar</td>\n",
       "      <td>2246636</td>\n",
       "      <td>=</td>\n",
       "      <td>1</td>\n",
       "      <td>1</td>\n",
       "      <td>=</td>\n",
       "      <td>NaN</td>\n",
       "      <td>EC50</td>\n",
       "      <td>nM</td>\n",
       "      <td>NaN</td>\n",
       "      <td>1.9</td>\n",
       "      <td>CHEMBL235</td>\n",
       "      <td>Homo sapiens</td>\n",
       "      <td>Peroxisome proliferator-activated receptor gamma</td>\n",
       "      <td>9606</td>\n",
       "      <td>NaN</td>\n",
       "      <td>NaN</td>\n",
       "      <td>EC50</td>\n",
       "      <td>nM</td>\n",
       "      <td>UO_0000065</td>\n",
       "      <td>NaN</td>\n",
       "      <td>1.9</td>\n",
       "    </tr>\n",
       "  </tbody>\n",
       "</table>\n",
       "<p>1000 rows × 45 columns</p>\n",
       "</div>"
      ],
      "text/plain": [
       "     activity_comment  activity_id activity_properties assay_chembl_id  \\\n",
       "0                 NaN        32233                  []    CHEMBL658541   \n",
       "1                 NaN        32234                  []    CHEMBL656170   \n",
       "2                 NaN        33386                  []    CHEMBL658541   \n",
       "3                 NaN        33387                  []    CHEMBL656170   \n",
       "4                 NaN        35892                  []    CHEMBL658541   \n",
       "..                ...          ...                 ...             ...   \n",
       "995               NaN     15042190                  []   CHEMBL3369562   \n",
       "996               NaN     15042191                  []   CHEMBL3369562   \n",
       "997               NaN     15042192                  []   CHEMBL3369562   \n",
       "998               NaN     15042193                  []   CHEMBL3369562   \n",
       "999               NaN     15042194                  []   CHEMBL3369562   \n",
       "\n",
       "                                                              assay_description  \\\n",
       "0      In vitro agonist efficacy against PPAR gamma along with 100 nM BRL-49653   \n",
       "1    In vitro agonistic activity against PPAR gamma along with 100 nM BRL-49653   \n",
       "2      In vitro agonist efficacy against PPAR gamma along with 100 nM BRL-49653   \n",
       "3    In vitro agonistic activity against PPAR gamma along with 100 nM BRL-49653   \n",
       "4      In vitro agonist efficacy against PPAR gamma along with 100 nM BRL-49653   \n",
       "..                                                                          ...   \n",
       "995                                         Agonist activity at human PPARgamma   \n",
       "996                                         Agonist activity at human PPARgamma   \n",
       "997                                         Agonist activity at human PPARgamma   \n",
       "998                                         Agonist activity at human PPARgamma   \n",
       "999                                         Agonist activity at human PPARgamma   \n",
       "\n",
       "    assay_type  assay_variant_accession  assay_variant_mutation bao_endpoint  \\\n",
       "0            F                      NaN                     NaN  BAO_0000188   \n",
       "1            F                      NaN                     NaN  BAO_0000188   \n",
       "2            F                      NaN                     NaN  BAO_0000188   \n",
       "3            F                      NaN                     NaN  BAO_0000188   \n",
       "4            F                      NaN                     NaN  BAO_0000188   \n",
       "..         ...                      ...                     ...          ...   \n",
       "995          B                      NaN                     NaN  BAO_0000188   \n",
       "996          B                      NaN                     NaN  BAO_0000188   \n",
       "997          B                      NaN                     NaN  BAO_0000188   \n",
       "998          B                      NaN                     NaN  BAO_0000188   \n",
       "999          B                      NaN                     NaN  BAO_0000188   \n",
       "\n",
       "      bao_format              bao_label  \\\n",
       "0    BAO_0000019           assay format   \n",
       "1    BAO_0000019           assay format   \n",
       "2    BAO_0000019           assay format   \n",
       "3    BAO_0000019           assay format   \n",
       "4    BAO_0000019           assay format   \n",
       "..           ...                    ...   \n",
       "995  BAO_0000357  single protein format   \n",
       "996  BAO_0000357  single protein format   \n",
       "997  BAO_0000357  single protein format   \n",
       "998  BAO_0000357  single protein format   \n",
       "999  BAO_0000357  single protein format   \n",
       "\n",
       "                                                                canonical_smiles  \\\n",
       "0                CC(/C=C/C(F)=C(/C)c1cc(C(C)(C)C)cc(C(C)(C)C)c1OCC(F)F)=C\\C(=O)O   \n",
       "1                CC(/C=C/C(F)=C(/C)c1cc(C(C)(C)C)cc(C(C)(C)C)c1OCC(F)F)=C\\C(=O)O   \n",
       "2            CCC(C)(C)c1cc(/C(C)=C(F)\\C=C\\C(C)=C\\C(=O)O)c(OCC(F)F)c(C(C)(C)CC)c1   \n",
       "3            CCC(C)(C)c1cc(/C(C)=C(F)\\C=C\\C(C)=C\\C(=O)O)c(OCC(F)F)c(C(C)(C)CC)c1   \n",
       "4               C/C(=C/C=C/C(C)=C/C(=O)O)c1cc(-c2cc(F)cc(F)c2)cc(C(C)C)c1OCC(F)F   \n",
       "..                                                                           ...   \n",
       "995  CCCOc1ccc(C[C@@H](Cc2ccccc2)C(=O)O)cc1CNC(=O)c1ccc(N2CC(C)(C)CC(C)(C)C2)cc1   \n",
       "996        CCCOc1ccc(C[C@@H](Cc2ccccc2)C(=O)O)cc1CNC(=O)c1ccc(N2CCC(C)(C)CC2)cc1   \n",
       "997        CCCOc1ccc(C[C@@H](Cc2ccccc2)C(=O)O)cc1CNC(=O)c1ccc(N2CCCC(C)(C)C2)cc1   \n",
       "998           CCCOc1ccc(C[C@@H](Cc2ccccc2)C(=O)O)cc1CNC(=O)c1ccc(N2CCCCCCCC2)cc1   \n",
       "999            CCCOc1ccc(C[C@@H](Cc2ccccc2)C(=O)O)cc1CNC(=O)c1ccc(N2CCCCCCC2)cc1   \n",
       "\n",
       "    data_validity_comment data_validity_description document_chembl_id  \\\n",
       "0                     NaN                       NaN      CHEMBL1136440   \n",
       "1                     NaN                       NaN      CHEMBL1136440   \n",
       "2                     NaN                       NaN      CHEMBL1136440   \n",
       "3                     NaN                       NaN      CHEMBL1136440   \n",
       "4                     NaN                       NaN      CHEMBL1136440   \n",
       "..                    ...                       ...                ...   \n",
       "995                   NaN                       NaN      CHEMBL3351353   \n",
       "996                   NaN                       NaN      CHEMBL3351353   \n",
       "997                   NaN                       NaN      CHEMBL3351353   \n",
       "998                   NaN                       NaN      CHEMBL3351353   \n",
       "999                   NaN                       NaN      CHEMBL3351353   \n",
       "\n",
       "             document_journal  document_year  \\\n",
       "0    Bioorg. Med. Chem. Lett.           2003   \n",
       "1    Bioorg. Med. Chem. Lett.           2003   \n",
       "2    Bioorg. Med. Chem. Lett.           2003   \n",
       "3    Bioorg. Med. Chem. Lett.           2003   \n",
       "4    Bioorg. Med. Chem. Lett.           2003   \n",
       "..                        ...            ...   \n",
       "995  Bioorg. Med. Chem. Lett.           2014   \n",
       "996  Bioorg. Med. Chem. Lett.           2014   \n",
       "997  Bioorg. Med. Chem. Lett.           2014   \n",
       "998  Bioorg. Med. Chem. Lett.           2014   \n",
       "999  Bioorg. Med. Chem. Lett.           2014   \n",
       "\n",
       "                                                 ligand_efficiency  \\\n",
       "0                                                              NaN   \n",
       "1                                                              NaN   \n",
       "2                                                              NaN   \n",
       "3                                                              NaN   \n",
       "4                                                              NaN   \n",
       "..                                                             ...   \n",
       "995  {'bei': '15.17', 'le': '0.28', 'lle': '1.51', 'sei': '10.98'}   \n",
       "996  {'bei': '14.71', 'le': '0.27', 'lle': '1.46', 'sei': '10.12'}   \n",
       "997  {'bei': '15.03', 'le': '0.28', 'lle': '1.63', 'sei': '10.34'}   \n",
       "998   {'bei': '13.31', 'le': '0.25', 'lle': '0.36', 'sei': '9.40'}   \n",
       "999  {'bei': '16.07', 'le': '0.30', 'lle': '2.06', 'sei': '11.06'}   \n",
       "\n",
       "    molecule_chembl_id molecule_pref_name parent_molecule_chembl_id  \\\n",
       "0         CHEMBL111217                NaN              CHEMBL111217   \n",
       "1         CHEMBL111217                NaN              CHEMBL111217   \n",
       "2         CHEMBL130231                NaN              CHEMBL130231   \n",
       "3         CHEMBL130231                NaN              CHEMBL130231   \n",
       "4         CHEMBL337393                NaN              CHEMBL337393   \n",
       "..                 ...                ...                       ...   \n",
       "995      CHEMBL3317863                NaN             CHEMBL3317863   \n",
       "996      CHEMBL3317862                NaN             CHEMBL3317862   \n",
       "997      CHEMBL3317861                NaN             CHEMBL3317861   \n",
       "998      CHEMBL3317455                NaN             CHEMBL3317455   \n",
       "999      CHEMBL3317860                NaN             CHEMBL3317860   \n",
       "\n",
       "     pchembl_value  potential_duplicate  \\\n",
       "0             7.20                    0   \n",
       "1             8.19                    0   \n",
       "2             7.29                    0   \n",
       "3             8.57                    0   \n",
       "4             7.40                    0   \n",
       "..             ...                  ...   \n",
       "995           8.66                    0   \n",
       "996           7.98                    0   \n",
       "997           8.15                    0   \n",
       "998           7.41                    0   \n",
       "999           8.72                    0   \n",
       "\n",
       "                                    qudt_units  record_id relation  src_id  \\\n",
       "0    http://www.openphacts.org/units/Nanomolar     251326        =       1   \n",
       "1    http://www.openphacts.org/units/Nanomolar     251326        =       1   \n",
       "2    http://www.openphacts.org/units/Nanomolar     251310        =       1   \n",
       "3    http://www.openphacts.org/units/Nanomolar     251310        =       1   \n",
       "4    http://www.openphacts.org/units/Nanomolar     251312        =       1   \n",
       "..                                         ...        ...      ...     ...   \n",
       "995  http://www.openphacts.org/units/Nanomolar    2246640        =       1   \n",
       "996  http://www.openphacts.org/units/Nanomolar    2246639        =       1   \n",
       "997  http://www.openphacts.org/units/Nanomolar    2246638        =       1   \n",
       "998  http://www.openphacts.org/units/Nanomolar    2246637        =       1   \n",
       "999  http://www.openphacts.org/units/Nanomolar    2246636        =       1   \n",
       "\n",
       "     standard_flag standard_relation  standard_text_value standard_type  \\\n",
       "0                1                 =                  NaN          EC50   \n",
       "1                1                 =                  NaN          EC50   \n",
       "2                1                 =                  NaN          EC50   \n",
       "3                1                 =                  NaN          EC50   \n",
       "4                1                 =                  NaN          EC50   \n",
       "..             ...               ...                  ...           ...   \n",
       "995              1                 =                  NaN          EC50   \n",
       "996              1                 =                  NaN          EC50   \n",
       "997              1                 =                  NaN          EC50   \n",
       "998              1                 =                  NaN          EC50   \n",
       "999              1                 =                  NaN          EC50   \n",
       "\n",
       "    standard_units  standard_upper_value  standard_value target_chembl_id  \\\n",
       "0               nM                   NaN            63.0        CHEMBL235   \n",
       "1               nM                   NaN             6.4        CHEMBL235   \n",
       "2               nM                   NaN            51.0        CHEMBL235   \n",
       "3               nM                   NaN             2.7        CHEMBL235   \n",
       "4               nM                   NaN            40.0        CHEMBL235   \n",
       "..             ...                   ...             ...              ...   \n",
       "995             nM                   NaN             2.2        CHEMBL235   \n",
       "996             nM                   NaN            10.4        CHEMBL235   \n",
       "997             nM                   NaN             7.0        CHEMBL235   \n",
       "998             nM                   NaN            38.9        CHEMBL235   \n",
       "999             nM                   NaN             1.9        CHEMBL235   \n",
       "\n",
       "    target_organism                                  target_pref_name  \\\n",
       "0      Homo sapiens  Peroxisome proliferator-activated receptor gamma   \n",
       "1      Homo sapiens  Peroxisome proliferator-activated receptor gamma   \n",
       "2      Homo sapiens  Peroxisome proliferator-activated receptor gamma   \n",
       "3      Homo sapiens  Peroxisome proliferator-activated receptor gamma   \n",
       "4      Homo sapiens  Peroxisome proliferator-activated receptor gamma   \n",
       "..              ...                                               ...   \n",
       "995    Homo sapiens  Peroxisome proliferator-activated receptor gamma   \n",
       "996    Homo sapiens  Peroxisome proliferator-activated receptor gamma   \n",
       "997    Homo sapiens  Peroxisome proliferator-activated receptor gamma   \n",
       "998    Homo sapiens  Peroxisome proliferator-activated receptor gamma   \n",
       "999    Homo sapiens  Peroxisome proliferator-activated receptor gamma   \n",
       "\n",
       "     target_tax_id  text_value  toid  type units    uo_units  upper_value  \\\n",
       "0             9606         NaN   NaN  EC50    nM  UO_0000065          NaN   \n",
       "1             9606         NaN   NaN  EC50    nM  UO_0000065          NaN   \n",
       "2             9606         NaN   NaN  EC50    nM  UO_0000065          NaN   \n",
       "3             9606         NaN   NaN  EC50    nM  UO_0000065          NaN   \n",
       "4             9606         NaN   NaN  EC50    nM  UO_0000065          NaN   \n",
       "..             ...         ...   ...   ...   ...         ...          ...   \n",
       "995           9606         NaN   NaN  EC50    nM  UO_0000065          NaN   \n",
       "996           9606         NaN   NaN  EC50    nM  UO_0000065          NaN   \n",
       "997           9606         NaN   NaN  EC50    nM  UO_0000065          NaN   \n",
       "998           9606         NaN   NaN  EC50    nM  UO_0000065          NaN   \n",
       "999           9606         NaN   NaN  EC50    nM  UO_0000065          NaN   \n",
       "\n",
       "     value  \n",
       "0     63.0  \n",
       "1      6.4  \n",
       "2     51.0  \n",
       "3      2.7  \n",
       "4     40.0  \n",
       "..     ...  \n",
       "995    2.2  \n",
       "996   10.4  \n",
       "997    7.0  \n",
       "998   38.9  \n",
       "999    1.9  \n",
       "\n",
       "[1000 rows x 45 columns]"
      ]
     },
     "execution_count": 8,
     "metadata": {},
     "output_type": "execute_result"
    }
   ],
   "source": [
    "biodata.head(1000)"
   ]
  },
  {
   "cell_type": "code",
   "execution_count": 9,
   "id": "92d7e656",
   "metadata": {
    "execution": {
     "iopub.execute_input": "2023-04-29T19:51:10.952423Z",
     "iopub.status.busy": "2023-04-29T19:51:10.951736Z",
     "iopub.status.idle": "2023-04-29T19:51:10.975401Z",
     "shell.execute_reply": "2023-04-29T19:51:10.973493Z"
    },
    "papermill": {
     "duration": 0.04003,
     "end_time": "2023-04-29T19:51:10.977958",
     "exception": false,
     "start_time": "2023-04-29T19:51:10.937928",
     "status": "completed"
    },
    "tags": []
   },
   "outputs": [
    {
     "name": "stdout",
     "output_type": "stream",
     "text": [
      "<class 'pandas.core.frame.DataFrame'>\n",
      "RangeIndex: 1445 entries, 0 to 1444\n",
      "Data columns (total 45 columns):\n",
      " #   Column                     Non-Null Count  Dtype  \n",
      "---  ------                     --------------  -----  \n",
      " 0   activity_comment           50 non-null     float64\n",
      " 1   activity_id                1445 non-null   int64  \n",
      " 2   activity_properties        1445 non-null   object \n",
      " 3   assay_chembl_id            1445 non-null   object \n",
      " 4   assay_description          1445 non-null   object \n",
      " 5   assay_type                 1445 non-null   object \n",
      " 6   assay_variant_accession    0 non-null      float64\n",
      " 7   assay_variant_mutation     0 non-null      float64\n",
      " 8   bao_endpoint               1445 non-null   object \n",
      " 9   bao_format                 1445 non-null   object \n",
      " 10  bao_label                  1445 non-null   object \n",
      " 11  canonical_smiles           1445 non-null   object \n",
      " 12  data_validity_comment      4 non-null      object \n",
      " 13  data_validity_description  4 non-null      object \n",
      " 14  document_chembl_id         1445 non-null   object \n",
      " 15  document_journal           1395 non-null   object \n",
      " 16  document_year              1445 non-null   int64  \n",
      " 17  ligand_efficiency          697 non-null    object \n",
      " 18  molecule_chembl_id         1445 non-null   object \n",
      " 19  molecule_pref_name         109 non-null    object \n",
      " 20  parent_molecule_chembl_id  1445 non-null   object \n",
      " 21  pchembl_value              1273 non-null   float64\n",
      " 22  potential_duplicate        1445 non-null   int64  \n",
      " 23  qudt_units                 1384 non-null   object \n",
      " 24  record_id                  1445 non-null   int64  \n",
      " 25  relation                   1445 non-null   object \n",
      " 26  src_id                     1445 non-null   int64  \n",
      " 27  standard_flag              1445 non-null   int64  \n",
      " 28  standard_relation          1445 non-null   object \n",
      " 29  standard_text_value        0 non-null      float64\n",
      " 30  standard_type              1445 non-null   object \n",
      " 31  standard_units             1445 non-null   object \n",
      " 32  standard_upper_value       0 non-null      float64\n",
      " 33  standard_value             1445 non-null   float64\n",
      " 34  target_chembl_id           1445 non-null   object \n",
      " 35  target_organism            1445 non-null   object \n",
      " 36  target_pref_name           1445 non-null   object \n",
      " 37  target_tax_id              1445 non-null   int64  \n",
      " 38  text_value                 0 non-null      float64\n",
      " 39  toid                       0 non-null      float64\n",
      " 40  type                       1445 non-null   object \n",
      " 41  units                      1445 non-null   object \n",
      " 42  uo_units                   1384 non-null   object \n",
      " 43  upper_value                4 non-null      float64\n",
      " 44  value                      1445 non-null   float64\n",
      "dtypes: float64(11), int64(7), object(27)\n",
      "memory usage: 508.1+ KB\n"
     ]
    }
   ],
   "source": [
    "biodata.info()"
   ]
  },
  {
   "cell_type": "code",
   "execution_count": 10,
   "id": "1d3fd94d",
   "metadata": {
    "execution": {
     "iopub.execute_input": "2023-04-29T19:51:11.005420Z",
     "iopub.status.busy": "2023-04-29T19:51:11.004505Z",
     "iopub.status.idle": "2023-04-29T19:51:11.010793Z",
     "shell.execute_reply": "2023-04-29T19:51:11.009984Z"
    },
    "papermill": {
     "duration": 0.02225,
     "end_time": "2023-04-29T19:51:11.012865",
     "exception": false,
     "start_time": "2023-04-29T19:51:10.990615",
     "status": "completed"
    },
    "tags": []
   },
   "outputs": [
    {
     "data": {
      "text/plain": [
       "1445"
      ]
     },
     "execution_count": 10,
     "metadata": {},
     "output_type": "execute_result"
    }
   ],
   "source": [
    "len(biodata)"
   ]
  },
  {
   "cell_type": "code",
   "execution_count": 11,
   "id": "6c91e5ef",
   "metadata": {
    "execution": {
     "iopub.execute_input": "2023-04-29T19:51:11.039583Z",
     "iopub.status.busy": "2023-04-29T19:51:11.039142Z",
     "iopub.status.idle": "2023-04-29T19:51:11.052132Z",
     "shell.execute_reply": "2023-04-29T19:51:11.050963Z"
    },
    "papermill": {
     "duration": 0.029269,
     "end_time": "2023-04-29T19:51:11.054475",
     "exception": false,
     "start_time": "2023-04-29T19:51:11.025206",
     "status": "completed"
    },
    "tags": []
   },
   "outputs": [
    {
     "data": {
      "text/plain": [
       "activity_comment             1395\n",
       "activity_id                     0\n",
       "activity_properties             0\n",
       "assay_chembl_id                 0\n",
       "assay_description               0\n",
       "assay_type                      0\n",
       "assay_variant_accession      1445\n",
       "assay_variant_mutation       1445\n",
       "bao_endpoint                    0\n",
       "bao_format                      0\n",
       "bao_label                       0\n",
       "canonical_smiles                0\n",
       "data_validity_comment        1441\n",
       "data_validity_description    1441\n",
       "document_chembl_id              0\n",
       "document_journal               50\n",
       "document_year                   0\n",
       "ligand_efficiency             748\n",
       "molecule_chembl_id              0\n",
       "molecule_pref_name           1336\n",
       "parent_molecule_chembl_id       0\n",
       "pchembl_value                 172\n",
       "potential_duplicate             0\n",
       "qudt_units                     61\n",
       "record_id                       0\n",
       "relation                        0\n",
       "src_id                          0\n",
       "standard_flag                   0\n",
       "standard_relation               0\n",
       "standard_text_value          1445\n",
       "standard_type                   0\n",
       "standard_units                  0\n",
       "standard_upper_value         1445\n",
       "standard_value                  0\n",
       "target_chembl_id                0\n",
       "target_organism                 0\n",
       "target_pref_name                0\n",
       "target_tax_id                   0\n",
       "text_value                   1445\n",
       "toid                         1445\n",
       "type                            0\n",
       "units                           0\n",
       "uo_units                       61\n",
       "upper_value                  1441\n",
       "value                           0\n",
       "dtype: int64"
      ]
     },
     "execution_count": 11,
     "metadata": {},
     "output_type": "execute_result"
    }
   ],
   "source": [
    "biodata.isna().sum()"
   ]
  },
  {
   "cell_type": "markdown",
   "id": "09c85adc",
   "metadata": {
    "papermill": {
     "duration": 0.012322,
     "end_time": "2023-04-29T19:51:11.079526",
     "exception": false,
     "start_time": "2023-04-29T19:51:11.067204",
     "status": "completed"
    },
    "tags": []
   },
   "source": [
    "# prepare data\n"
   ]
  },
  {
   "cell_type": "markdown",
   "id": "34e54a0d",
   "metadata": {
    "papermill": {
     "duration": 0.012293,
     "end_time": "2023-04-29T19:51:11.104242",
     "exception": false,
     "start_time": "2023-04-29T19:51:11.091949",
     "status": "completed"
    },
    "tags": []
   },
   "source": [
    "**dropper dårlig data**"
   ]
  },
  {
   "cell_type": "code",
   "execution_count": 12,
   "id": "25a629fc",
   "metadata": {
    "execution": {
     "iopub.execute_input": "2023-04-29T19:51:11.131395Z",
     "iopub.status.busy": "2023-04-29T19:51:11.130622Z",
     "iopub.status.idle": "2023-04-29T19:51:11.147235Z",
     "shell.execute_reply": "2023-04-29T19:51:11.146012Z"
    },
    "papermill": {
     "duration": 0.032813,
     "end_time": "2023-04-29T19:51:11.149550",
     "exception": false,
     "start_time": "2023-04-29T19:51:11.116737",
     "status": "completed"
    },
    "tags": []
   },
   "outputs": [
    {
     "name": "stdout",
     "output_type": "stream",
     "text": [
      "['data_validity_comment', 'data_validity_description', 'qudt_units', 'standard_flag', 'standard_type', 'standard_units', 'target_chembl_id', 'target_organism', 'target_pref_name', 'target_tax_id', 'type', 'units', 'uo_units']\n"
     ]
    }
   ],
   "source": [
    "#sjekker om radene har de samme verdiene, fordi da er det ikke vits i å ha de med\n",
    "unik = biodata.nunique()\n",
    "unikkol = unik[unik == 1].index\n",
    "print(unikkol.tolist())"
   ]
  },
  {
   "cell_type": "code",
   "execution_count": 13,
   "id": "3c88ce3e",
   "metadata": {
    "execution": {
     "iopub.execute_input": "2023-04-29T19:51:11.176913Z",
     "iopub.status.busy": "2023-04-29T19:51:11.176466Z",
     "iopub.status.idle": "2023-04-29T19:51:11.183603Z",
     "shell.execute_reply": "2023-04-29T19:51:11.182598Z"
    },
    "papermill": {
     "duration": 0.02373,
     "end_time": "2023-04-29T19:51:11.186003",
     "exception": false,
     "start_time": "2023-04-29T19:51:11.162273",
     "status": "completed"
    },
    "tags": []
   },
   "outputs": [],
   "source": [
    "#dropper de har alle radene som er like \n",
    "biodata.drop(['data_validity_comment', 'data_validity_description', 'qudt_units', 'standard_flag', 'standard_type', 'standard_units', 'target_chembl_id', \n",
    "              'target_organism', 'target_pref_name', 'target_tax_id', 'type', 'units', 'uo_units'], axis=1, inplace=True)"
   ]
  },
  {
   "cell_type": "code",
   "execution_count": 14,
   "id": "19b53798",
   "metadata": {
    "execution": {
     "iopub.execute_input": "2023-04-29T19:51:11.213589Z",
     "iopub.status.busy": "2023-04-29T19:51:11.213203Z",
     "iopub.status.idle": "2023-04-29T19:51:11.220314Z",
     "shell.execute_reply": "2023-04-29T19:51:11.219189Z"
    },
    "papermill": {
     "duration": 0.023498,
     "end_time": "2023-04-29T19:51:11.222616",
     "exception": false,
     "start_time": "2023-04-29T19:51:11.199118",
     "status": "completed"
    },
    "tags": []
   },
   "outputs": [],
   "source": [
    "#Jeg dropper featurså som er like, feks value og standard_value: da dropper jeg standardvalue. og de som er urelevant sånn som id\n",
    "biodata.drop([\"document_year\",  \"activity_id\", \"assay_chembl_id\", \"bao_label\", \"document_chembl_id\", \"molecule_chembl_id\",\n",
    "             \"parent_molecule_chembl_id\", \"record_id\", \"standard_value\", \"standard_relation\", \"relation\", \"src_id\", \"activity_comment\"],axis=1, inplace=True)\n"
   ]
  },
  {
   "cell_type": "code",
   "execution_count": 15,
   "id": "b68eb4d3",
   "metadata": {
    "execution": {
     "iopub.execute_input": "2023-04-29T19:51:11.249574Z",
     "iopub.status.busy": "2023-04-29T19:51:11.249199Z",
     "iopub.status.idle": "2023-04-29T19:51:11.255099Z",
     "shell.execute_reply": "2023-04-29T19:51:11.254224Z"
    },
    "papermill": {
     "duration": 0.021939,
     "end_time": "2023-04-29T19:51:11.257174",
     "exception": false,
     "start_time": "2023-04-29T19:51:11.235235",
     "status": "completed"
    },
    "tags": []
   },
   "outputs": [],
   "source": [
    "#dropper de med for mange manglende verdier.\n",
    "biodata.drop([\"assay_variant_accession\", \"assay_variant_mutation\", \"molecule_pref_name\",\"standard_text_value\", \"standard_upper_value\", \"toid\", \"upper_value\", \"ligand_efficiency\", \n",
    "              \"text_value\"],axis=1, inplace=True)\n"
   ]
  },
  {
   "cell_type": "code",
   "execution_count": 16,
   "id": "60a7e931",
   "metadata": {
    "execution": {
     "iopub.execute_input": "2023-04-29T19:51:11.284111Z",
     "iopub.status.busy": "2023-04-29T19:51:11.283710Z",
     "iopub.status.idle": "2023-04-29T19:51:11.292764Z",
     "shell.execute_reply": "2023-04-29T19:51:11.291604Z"
    },
    "papermill": {
     "duration": 0.025468,
     "end_time": "2023-04-29T19:51:11.295114",
     "exception": false,
     "start_time": "2023-04-29T19:51:11.269646",
     "status": "completed"
    },
    "tags": []
   },
   "outputs": [],
   "source": [
    "#dropper de kolonnene som har manglende verdier. og jeg skal bruke pchemble_value som target\n",
    "biodata = biodata.dropna(subset=[\"pchembl_value\", \"document_journal\", \"assay_description\"], axis=0)"
   ]
  },
  {
   "cell_type": "code",
   "execution_count": 17,
   "id": "7a814430",
   "metadata": {
    "execution": {
     "iopub.execute_input": "2023-04-29T19:51:11.322281Z",
     "iopub.status.busy": "2023-04-29T19:51:11.321878Z",
     "iopub.status.idle": "2023-04-29T19:51:11.757587Z",
     "shell.execute_reply": "2023-04-29T19:51:11.756333Z"
    },
    "papermill": {
     "duration": 0.452837,
     "end_time": "2023-04-29T19:51:11.760594",
     "exception": false,
     "start_time": "2023-04-29T19:51:11.307757",
     "status": "completed"
    },
    "tags": []
   },
   "outputs": [],
   "source": [
    "#få representert canonical_smiles\n",
    "#kopiert fra gpt\n",
    "def smiles_to_descriptors(smiles):\n",
    "    mol = MolFromSmiles(smiles)\n",
    "    return [Descriptors.MolWt(mol), Descriptors.NumHAcceptors(mol), Descriptors.NumHDonors(mol)]\n",
    "\n",
    "descriptors = biodata[\"canonical_smiles\"].apply(smiles_to_descriptors)"
   ]
  },
  {
   "cell_type": "code",
   "execution_count": 18,
   "id": "46533a18",
   "metadata": {
    "execution": {
     "iopub.execute_input": "2023-04-29T19:51:11.788352Z",
     "iopub.status.busy": "2023-04-29T19:51:11.787932Z",
     "iopub.status.idle": "2023-04-29T19:51:11.796984Z",
     "shell.execute_reply": "2023-04-29T19:51:11.795787Z"
    },
    "papermill": {
     "duration": 0.025757,
     "end_time": "2023-04-29T19:51:11.799201",
     "exception": false,
     "start_time": "2023-04-29T19:51:11.773444",
     "status": "completed"
    },
    "tags": []
   },
   "outputs": [],
   "source": [
    "#lage et nytt dataframe med molkyl\n",
    "data_descriptors = pd.DataFrame(np.vstack(descriptors), columns=[\"MolWt\", \"NumHAcceptors\", \"NumHDonors\"])"
   ]
  },
  {
   "cell_type": "code",
   "execution_count": 19,
   "id": "829d3200",
   "metadata": {
    "execution": {
     "iopub.execute_input": "2023-04-29T19:51:11.827561Z",
     "iopub.status.busy": "2023-04-29T19:51:11.827152Z",
     "iopub.status.idle": "2023-04-29T19:51:11.841463Z",
     "shell.execute_reply": "2023-04-29T19:51:11.840288Z"
    },
    "papermill": {
     "duration": 0.032373,
     "end_time": "2023-04-29T19:51:11.844430",
     "exception": false,
     "start_time": "2023-04-29T19:51:11.812057",
     "status": "completed"
    },
    "tags": []
   },
   "outputs": [],
   "source": [
    "#bruke d nye og droppe det gamle\n",
    "biodata = pd.concat([biodata, data_descriptors], axis=1)\n",
    "biodata = biodata.drop(\"canonical_smiles\", axis=1)"
   ]
  },
  {
   "cell_type": "markdown",
   "id": "cbb19e63",
   "metadata": {
    "papermill": {
     "duration": 0.012698,
     "end_time": "2023-04-29T19:51:11.870221",
     "exception": false,
     "start_time": "2023-04-29T19:51:11.857523",
     "status": "completed"
    },
    "tags": []
   },
   "source": [
    "**tokenized**"
   ]
  },
  {
   "cell_type": "code",
   "execution_count": 20,
   "id": "7f6fc338",
   "metadata": {
    "execution": {
     "iopub.execute_input": "2023-04-29T19:51:11.898773Z",
     "iopub.status.busy": "2023-04-29T19:51:11.898113Z",
     "iopub.status.idle": "2023-04-29T19:51:23.964098Z",
     "shell.execute_reply": "2023-04-29T19:51:23.962832Z"
    },
    "papermill": {
     "duration": 12.083617,
     "end_time": "2023-04-29T19:51:23.967052",
     "exception": false,
     "start_time": "2023-04-29T19:51:11.883435",
     "status": "completed"
    },
    "tags": []
   },
   "outputs": [
    {
     "data": {
      "text/html": [
       "\n",
       "<style>\n",
       "    /* Turns off some styling */\n",
       "    progress {\n",
       "        /* gets rid of default border in Firefox and Opera. */\n",
       "        border: none;\n",
       "        /* Needs to be in here for Safari polyfill so background images work as expected. */\n",
       "        background-size: auto;\n",
       "    }\n",
       "    progress:not([value]), progress:not([value])::-webkit-progress-bar {\n",
       "        background: repeating-linear-gradient(45deg, #7e7e7e, #7e7e7e 10px, #5c5c5c 10px, #5c5c5c 20px);\n",
       "    }\n",
       "    .progress-bar-interrupted, .progress-bar-interrupted::-webkit-progress-bar {\n",
       "        background: #F44336;\n",
       "    }\n",
       "</style>\n"
      ],
      "text/plain": [
       "<IPython.core.display.HTML object>"
      ]
     },
     "metadata": {},
     "output_type": "display_data"
    },
    {
     "data": {
      "text/html": [],
      "text/plain": [
       "<IPython.core.display.HTML object>"
      ]
     },
     "metadata": {},
     "output_type": "display_data"
    }
   ],
   "source": [
    "#tokenized for kommentarene\n",
    "text_dls = TextDataLoaders.from_df(biodata, text_col='assay_description', is_lm=False, valid_pct=0.2)"
   ]
  },
  {
   "cell_type": "code",
   "execution_count": 21,
   "id": "45a7917e",
   "metadata": {
    "execution": {
     "iopub.execute_input": "2023-04-29T19:51:23.995682Z",
     "iopub.status.busy": "2023-04-29T19:51:23.994946Z",
     "iopub.status.idle": "2023-04-29T19:51:24.000898Z",
     "shell.execute_reply": "2023-04-29T19:51:23.999624Z"
    },
    "papermill": {
     "duration": 0.022956,
     "end_time": "2023-04-29T19:51:24.003243",
     "exception": false,
     "start_time": "2023-04-29T19:51:23.980287",
     "status": "completed"
    },
    "tags": []
   },
   "outputs": [],
   "source": [
    "#prøvte å kombinere text og tabular men får det ikke til....\n",
    "#db = DataBlock(blocks=(TextBlock(vocab=text_dls.vocab), CategoryBlock(vocab=cat_cols), ContinBlock, RegressionBlock),\n",
    "#               get_x=[ColReader('assay_description', pref='text_'), ColReader(cat_cols), ColReader(cont_cols)],\n",
    "#               get_y=[ColReader('pchembl_value')],\n",
    "#               splitter=RandomSplitter(valid_pct=0.2))"
   ]
  },
  {
   "cell_type": "code",
   "execution_count": 22,
   "id": "b5931e08",
   "metadata": {
    "execution": {
     "iopub.execute_input": "2023-04-29T19:51:24.032385Z",
     "iopub.status.busy": "2023-04-29T19:51:24.031629Z",
     "iopub.status.idle": "2023-04-29T19:54:09.799220Z",
     "shell.execute_reply": "2023-04-29T19:54:09.797664Z"
    },
    "papermill": {
     "duration": 165.785375,
     "end_time": "2023-04-29T19:54:09.802249",
     "exception": false,
     "start_time": "2023-04-29T19:51:24.016874",
     "status": "completed"
    },
    "tags": []
   },
   "outputs": [
    {
     "data": {
      "text/html": [
       "\n",
       "<style>\n",
       "    /* Turns off some styling */\n",
       "    progress {\n",
       "        /* gets rid of default border in Firefox and Opera. */\n",
       "        border: none;\n",
       "        /* Needs to be in here for Safari polyfill so background images work as expected. */\n",
       "        background-size: auto;\n",
       "    }\n",
       "    progress:not([value]), progress:not([value])::-webkit-progress-bar {\n",
       "        background: repeating-linear-gradient(45deg, #7e7e7e, #7e7e7e 10px, #5c5c5c 10px, #5c5c5c 20px);\n",
       "    }\n",
       "    .progress-bar-interrupted, .progress-bar-interrupted::-webkit-progress-bar {\n",
       "        background: #F44336;\n",
       "    }\n",
       "</style>\n"
      ],
      "text/plain": [
       "<IPython.core.display.HTML object>"
      ]
     },
     "metadata": {},
     "output_type": "display_data"
    },
    {
     "data": {
      "text/html": [],
      "text/plain": [
       "<IPython.core.display.HTML object>"
      ]
     },
     "metadata": {},
     "output_type": "display_data"
    },
    {
     "data": {
      "text/html": [
       "\n",
       "<style>\n",
       "    /* Turns off some styling */\n",
       "    progress {\n",
       "        /* gets rid of default border in Firefox and Opera. */\n",
       "        border: none;\n",
       "        /* Needs to be in here for Safari polyfill so background images work as expected. */\n",
       "        background-size: auto;\n",
       "    }\n",
       "    progress:not([value]), progress:not([value])::-webkit-progress-bar {\n",
       "        background: repeating-linear-gradient(45deg, #7e7e7e, #7e7e7e 10px, #5c5c5c 10px, #5c5c5c 20px);\n",
       "    }\n",
       "    .progress-bar-interrupted, .progress-bar-interrupted::-webkit-progress-bar {\n",
       "        background: #F44336;\n",
       "    }\n",
       "</style>\n"
      ],
      "text/plain": [
       "<IPython.core.display.HTML object>"
      ]
     },
     "metadata": {},
     "output_type": "display_data"
    },
    {
     "data": {
      "text/html": [
       "\n",
       "    <div>\n",
       "      <progress value='105070592' class='' max='105067061' style='width:300px; height:20px; vertical-align: middle;'></progress>\n",
       "      100.00% [105070592/105067061 00:01&lt;00:00]\n",
       "    </div>\n",
       "    "
      ],
      "text/plain": [
       "<IPython.core.display.HTML object>"
      ]
     },
     "metadata": {},
     "output_type": "display_data"
    },
    {
     "data": {
      "text/html": [
       "\n",
       "<style>\n",
       "    /* Turns off some styling */\n",
       "    progress {\n",
       "        /* gets rid of default border in Firefox and Opera. */\n",
       "        border: none;\n",
       "        /* Needs to be in here for Safari polyfill so background images work as expected. */\n",
       "        background-size: auto;\n",
       "    }\n",
       "    progress:not([value]), progress:not([value])::-webkit-progress-bar {\n",
       "        background: repeating-linear-gradient(45deg, #7e7e7e, #7e7e7e 10px, #5c5c5c 10px, #5c5c5c 20px);\n",
       "    }\n",
       "    .progress-bar-interrupted, .progress-bar-interrupted::-webkit-progress-bar {\n",
       "        background: #F44336;\n",
       "    }\n",
       "</style>\n"
      ],
      "text/plain": [
       "<IPython.core.display.HTML object>"
      ]
     },
     "metadata": {},
     "output_type": "display_data"
    },
    {
     "data": {
      "text/html": [
       "<table border=\"1\" class=\"dataframe\">\n",
       "  <thead>\n",
       "    <tr style=\"text-align: left;\">\n",
       "      <th>epoch</th>\n",
       "      <th>train_loss</th>\n",
       "      <th>valid_loss</th>\n",
       "      <th>accuracy</th>\n",
       "      <th>perplexity</th>\n",
       "      <th>time</th>\n",
       "    </tr>\n",
       "  </thead>\n",
       "  <tbody>\n",
       "    <tr>\n",
       "      <td>0</td>\n",
       "      <td>5.449969</td>\n",
       "      <td>3.452085</td>\n",
       "      <td>0.339618</td>\n",
       "      <td>31.566154</td>\n",
       "      <td>00:20</td>\n",
       "    </tr>\n",
       "  </tbody>\n",
       "</table>"
      ],
      "text/plain": [
       "<IPython.core.display.HTML object>"
      ]
     },
     "metadata": {},
     "output_type": "display_data"
    },
    {
     "data": {
      "text/html": [
       "\n",
       "<style>\n",
       "    /* Turns off some styling */\n",
       "    progress {\n",
       "        /* gets rid of default border in Firefox and Opera. */\n",
       "        border: none;\n",
       "        /* Needs to be in here for Safari polyfill so background images work as expected. */\n",
       "        background-size: auto;\n",
       "    }\n",
       "    progress:not([value]), progress:not([value])::-webkit-progress-bar {\n",
       "        background: repeating-linear-gradient(45deg, #7e7e7e, #7e7e7e 10px, #5c5c5c 10px, #5c5c5c 20px);\n",
       "    }\n",
       "    .progress-bar-interrupted, .progress-bar-interrupted::-webkit-progress-bar {\n",
       "        background: #F44336;\n",
       "    }\n",
       "</style>\n"
      ],
      "text/plain": [
       "<IPython.core.display.HTML object>"
      ]
     },
     "metadata": {},
     "output_type": "display_data"
    },
    {
     "data": {
      "text/html": [
       "<table border=\"1\" class=\"dataframe\">\n",
       "  <thead>\n",
       "    <tr style=\"text-align: left;\">\n",
       "      <th>epoch</th>\n",
       "      <th>train_loss</th>\n",
       "      <th>valid_loss</th>\n",
       "      <th>accuracy</th>\n",
       "      <th>perplexity</th>\n",
       "      <th>time</th>\n",
       "    </tr>\n",
       "  </thead>\n",
       "  <tbody>\n",
       "    <tr>\n",
       "      <td>0</td>\n",
       "      <td>2.916488</td>\n",
       "      <td>2.513519</td>\n",
       "      <td>0.542251</td>\n",
       "      <td>12.348310</td>\n",
       "      <td>00:28</td>\n",
       "    </tr>\n",
       "    <tr>\n",
       "      <td>1</td>\n",
       "      <td>2.364624</td>\n",
       "      <td>1.347100</td>\n",
       "      <td>0.716012</td>\n",
       "      <td>3.846255</td>\n",
       "      <td>00:28</td>\n",
       "    </tr>\n",
       "    <tr>\n",
       "      <td>2</td>\n",
       "      <td>1.906486</td>\n",
       "      <td>0.926796</td>\n",
       "      <td>0.783737</td>\n",
       "      <td>2.526401</td>\n",
       "      <td>00:28</td>\n",
       "    </tr>\n",
       "    <tr>\n",
       "      <td>3</td>\n",
       "      <td>1.601411</td>\n",
       "      <td>0.752457</td>\n",
       "      <td>0.818969</td>\n",
       "      <td>2.122207</td>\n",
       "      <td>00:28</td>\n",
       "    </tr>\n",
       "    <tr>\n",
       "      <td>4</td>\n",
       "      <td>1.391167</td>\n",
       "      <td>0.722766</td>\n",
       "      <td>0.828709</td>\n",
       "      <td>2.060123</td>\n",
       "      <td>00:28</td>\n",
       "    </tr>\n",
       "  </tbody>\n",
       "</table>"
      ],
      "text/plain": [
       "<IPython.core.display.HTML object>"
      ]
     },
     "metadata": {},
     "output_type": "display_data"
    }
   ],
   "source": [
    "#prøver å lage en modell for txt\n",
    "\n",
    "lm_dls = TextDataLoaders.from_df(biodata, text_col='assay_description', is_lm=True, valid_pct=0.2)\n",
    "\n",
    "# lager en modell\n",
    "lm_learn = language_model_learner(lm_dls, AWD_LSTM, drop_mult=0.3, metrics=[accuracy, Perplexity()])\n",
    "lm_learn.fit_one_cycle(1, 2e-2)\n",
    "lm_learn.unfreeze()\n",
    "lm_learn.fit_one_cycle(5, 2e-3)\n",
    "\n",
    "#lagrer\n",
    "lm_learn.save_encoder('finetuned')"
   ]
  },
  {
   "cell_type": "markdown",
   "id": "16643c1b",
   "metadata": {
    "papermill": {
     "duration": 0.013684,
     "end_time": "2023-04-29T19:54:09.830226",
     "exception": false,
     "start_time": "2023-04-29T19:54:09.816542",
     "status": "completed"
    },
    "tags": []
   },
   "source": [
    "**Transforms**"
   ]
  },
  {
   "cell_type": "code",
   "execution_count": 23,
   "id": "888f3475",
   "metadata": {
    "execution": {
     "iopub.execute_input": "2023-04-29T19:54:09.861375Z",
     "iopub.status.busy": "2023-04-29T19:54:09.860937Z",
     "iopub.status.idle": "2023-04-29T19:54:09.865841Z",
     "shell.execute_reply": "2023-04-29T19:54:09.864581Z"
    },
    "papermill": {
     "duration": 0.023554,
     "end_time": "2023-04-29T19:54:09.868311",
     "exception": false,
     "start_time": "2023-04-29T19:54:09.844757",
     "status": "completed"
    },
    "tags": []
   },
   "outputs": [],
   "source": [
    "#droppper assay_description siden den ødelegger når jeg ikke klarer å kombinere \n",
    "#biodata.drop(\"assay_description\",axis=1, inplace=True)"
   ]
  },
  {
   "cell_type": "code",
   "execution_count": 24,
   "id": "1bf58f17",
   "metadata": {
    "execution": {
     "iopub.execute_input": "2023-04-29T19:54:09.898656Z",
     "iopub.status.busy": "2023-04-29T19:54:09.898257Z",
     "iopub.status.idle": "2023-04-29T19:54:09.903551Z",
     "shell.execute_reply": "2023-04-29T19:54:09.902409Z"
    },
    "papermill": {
     "duration": 0.023595,
     "end_time": "2023-04-29T19:54:09.905986",
     "exception": false,
     "start_time": "2023-04-29T19:54:09.882391",
     "status": "completed"
    },
    "tags": []
   },
   "outputs": [],
   "source": [
    "#hva er katoring og kva er kontinuerlig\n",
    "cat_cols = ['assay_description','assay_type', 'bao_endpoint', 'bao_format', 'document_journal']\n",
    "#cat_cols = ['assay_type', 'bao_endpoint', 'bao_format', 'document_journal']\n",
    "cont_cols = ['value', 'MolWt', 'NumHAcceptors', 'NumHDonors']"
   ]
  },
  {
   "cell_type": "code",
   "execution_count": 25,
   "id": "5ac4d6de",
   "metadata": {
    "execution": {
     "iopub.execute_input": "2023-04-29T19:54:09.936449Z",
     "iopub.status.busy": "2023-04-29T19:54:09.936036Z",
     "iopub.status.idle": "2023-04-29T19:54:09.943114Z",
     "shell.execute_reply": "2023-04-29T19:54:09.941956Z"
    },
    "papermill": {
     "duration": 0.025336,
     "end_time": "2023-04-29T19:54:09.945452",
     "exception": false,
     "start_time": "2023-04-29T19:54:09.920116",
     "status": "completed"
    },
    "tags": []
   },
   "outputs": [
    {
     "data": {
      "text/plain": [
       "['assay_description',\n",
       " 'assay_type',\n",
       " 'bao_endpoint',\n",
       " 'bao_format',\n",
       " 'document_journal']"
      ]
     },
     "execution_count": 25,
     "metadata": {},
     "output_type": "execute_result"
    }
   ],
   "source": [
    "cat_cols"
   ]
  },
  {
   "cell_type": "code",
   "execution_count": 26,
   "id": "a0d43022",
   "metadata": {
    "execution": {
     "iopub.execute_input": "2023-04-29T19:54:09.976611Z",
     "iopub.status.busy": "2023-04-29T19:54:09.975572Z",
     "iopub.status.idle": "2023-04-29T19:54:09.982667Z",
     "shell.execute_reply": "2023-04-29T19:54:09.981596Z"
    },
    "papermill": {
     "duration": 0.025196,
     "end_time": "2023-04-29T19:54:09.984943",
     "exception": false,
     "start_time": "2023-04-29T19:54:09.959747",
     "status": "completed"
    },
    "tags": []
   },
   "outputs": [
    {
     "data": {
      "text/plain": [
       "['value', 'MolWt', 'NumHAcceptors', 'NumHDonors']"
      ]
     },
     "execution_count": 26,
     "metadata": {},
     "output_type": "execute_result"
    }
   ],
   "source": [
    "cont_cols"
   ]
  },
  {
   "cell_type": "code",
   "execution_count": 27,
   "id": "d98f3e66",
   "metadata": {
    "execution": {
     "iopub.execute_input": "2023-04-29T19:54:10.015543Z",
     "iopub.status.busy": "2023-04-29T19:54:10.014774Z",
     "iopub.status.idle": "2023-04-29T19:54:10.019035Z",
     "shell.execute_reply": "2023-04-29T19:54:10.018207Z"
    },
    "papermill": {
     "duration": 0.021953,
     "end_time": "2023-04-29T19:54:10.021138",
     "exception": false,
     "start_time": "2023-04-29T19:54:09.999185",
     "status": "completed"
    },
    "tags": []
   },
   "outputs": [],
   "source": [
    "#preprosessor\n",
    "procs = [Categorify, Normalize]"
   ]
  },
  {
   "cell_type": "code",
   "execution_count": 28,
   "id": "bcd1ea3b",
   "metadata": {
    "execution": {
     "iopub.execute_input": "2023-04-29T19:54:10.051961Z",
     "iopub.status.busy": "2023-04-29T19:54:10.051505Z",
     "iopub.status.idle": "2023-04-29T19:54:10.057226Z",
     "shell.execute_reply": "2023-04-29T19:54:10.056041Z"
    },
    "papermill": {
     "duration": 0.023709,
     "end_time": "2023-04-29T19:54:10.059566",
     "exception": false,
     "start_time": "2023-04-29T19:54:10.035857",
     "status": "completed"
    },
    "tags": []
   },
   "outputs": [],
   "source": [
    "splits = RandomSplitter(valid_pct=0.2)(range_of(biodata))"
   ]
  },
  {
   "cell_type": "code",
   "execution_count": 29,
   "id": "3953da61",
   "metadata": {
    "execution": {
     "iopub.execute_input": "2023-04-29T19:54:10.090018Z",
     "iopub.status.busy": "2023-04-29T19:54:10.089532Z",
     "iopub.status.idle": "2023-04-29T19:54:10.128087Z",
     "shell.execute_reply": "2023-04-29T19:54:10.126821Z"
    },
    "papermill": {
     "duration": 0.056931,
     "end_time": "2023-04-29T19:54:10.130650",
     "exception": false,
     "start_time": "2023-04-29T19:54:10.073719",
     "status": "completed"
    },
    "tags": []
   },
   "outputs": [],
   "source": [
    "#tabularpandas\n",
    "to = TabularPandas(biodata, procs, cat_cols, cont_cols, y_names='pchembl_value', splits=splits)"
   ]
  },
  {
   "cell_type": "code",
   "execution_count": 30,
   "id": "1b8c8cb2",
   "metadata": {
    "execution": {
     "iopub.execute_input": "2023-04-29T19:54:10.161326Z",
     "iopub.status.busy": "2023-04-29T19:54:10.160887Z",
     "iopub.status.idle": "2023-04-29T19:54:10.184900Z",
     "shell.execute_reply": "2023-04-29T19:54:10.183387Z"
    },
    "papermill": {
     "duration": 0.042538,
     "end_time": "2023-04-29T19:54:10.187596",
     "exception": false,
     "start_time": "2023-04-29T19:54:10.145058",
     "status": "completed"
    },
    "tags": []
   },
   "outputs": [
    {
     "name": "stdout",
     "output_type": "stream",
     "text": [
      "      assay_description  assay_type  bao_endpoint  bao_format  \\\n",
      "601                  32           3             2           2   \n",
      "1270                 60           2             2           2   \n",
      "891                 106           2             2           2   \n",
      "199                  80           2             2           3   \n",
      "230                  77           3             2           2   \n",
      "\n",
      "      document_journal     value     MolWt  NumHAcceptors  NumHDonors  \n",
      "601                  6 -0.381393  0.021513      -1.450153    1.285657  \n",
      "1270                 3 -0.341369       NaN            NaN         NaN  \n",
      "891                  5 -0.390055  1.022054      -0.130351    1.285657  \n",
      "199                  6 -0.195532 -1.180278      -0.790252   -0.517602  \n",
      "230                  6  0.349990 -0.477345      -0.790252   -0.517602  \n"
     ]
    }
   ],
   "source": [
    "print(to.train.xs.head())"
   ]
  },
  {
   "cell_type": "code",
   "execution_count": 31,
   "id": "ffebe872",
   "metadata": {
    "execution": {
     "iopub.execute_input": "2023-04-29T19:54:10.218641Z",
     "iopub.status.busy": "2023-04-29T19:54:10.218240Z",
     "iopub.status.idle": "2023-04-29T19:54:10.226611Z",
     "shell.execute_reply": "2023-04-29T19:54:10.225529Z"
    },
    "papermill": {
     "duration": 0.026477,
     "end_time": "2023-04-29T19:54:10.228844",
     "exception": false,
     "start_time": "2023-04-29T19:54:10.202367",
     "status": "completed"
    },
    "tags": []
   },
   "outputs": [
    {
     "data": {
      "text/plain": [
       "(1123, 280)"
      ]
     },
     "execution_count": 31,
     "metadata": {},
     "output_type": "execute_result"
    }
   ],
   "source": [
    "len(to.train),len(to.valid)"
   ]
  },
  {
   "cell_type": "code",
   "execution_count": 32,
   "id": "fcb11acc",
   "metadata": {
    "execution": {
     "iopub.execute_input": "2023-04-29T19:54:10.259792Z",
     "iopub.status.busy": "2023-04-29T19:54:10.259064Z",
     "iopub.status.idle": "2023-04-29T19:54:10.282736Z",
     "shell.execute_reply": "2023-04-29T19:54:10.281867Z"
    },
    "papermill": {
     "duration": 0.041609,
     "end_time": "2023-04-29T19:54:10.285094",
     "exception": false,
     "start_time": "2023-04-29T19:54:10.243485",
     "status": "completed"
    },
    "tags": []
   },
   "outputs": [
    {
     "data": {
      "text/html": [
       "<table border=\"1\" class=\"dataframe\">\n",
       "  <thead>\n",
       "    <tr style=\"text-align: right;\">\n",
       "      <th></th>\n",
       "      <th>assay_description</th>\n",
       "      <th>assay_type</th>\n",
       "      <th>bao_endpoint</th>\n",
       "      <th>bao_format</th>\n",
       "      <th>document_journal</th>\n",
       "      <th>value</th>\n",
       "      <th>MolWt</th>\n",
       "      <th>NumHAcceptors</th>\n",
       "      <th>NumHDonors</th>\n",
       "      <th>pchembl_value</th>\n",
       "    </tr>\n",
       "  </thead>\n",
       "  <tbody>\n",
       "    <tr>\n",
       "      <th>601</th>\n",
       "      <td>Agonist activity at PPARgamma transfected in HEK293 cells by GAL4 transactivation assay</td>\n",
       "      <td>F</td>\n",
       "      <td>BAO_0000188</td>\n",
       "      <td>BAO_0000219</td>\n",
       "      <td>Bioorg. Med. Chem. Lett.</td>\n",
       "      <td>22.000000</td>\n",
       "      <td>469.475006</td>\n",
       "      <td>3.0</td>\n",
       "      <td>2.0</td>\n",
       "      <td>7.66</td>\n",
       "    </tr>\n",
       "    <tr>\n",
       "      <th>1270</th>\n",
       "      <td>Agonist activity at recombinant human GAL4-DBD fused PPARgamma LBD expressed in COS7 cells after 24 hrs by luciferase reporter gene assay</td>\n",
       "      <td>B</td>\n",
       "      <td>BAO_0000188</td>\n",
       "      <td>BAO_0000219</td>\n",
       "      <td>Bioorg Med Chem</td>\n",
       "      <td>95.000000</td>\n",
       "      <td>NaN</td>\n",
       "      <td>NaN</td>\n",
       "      <td>NaN</td>\n",
       "      <td>7.02</td>\n",
       "    </tr>\n",
       "    <tr>\n",
       "      <th>891</th>\n",
       "      <td>Transactivation of human PPARgamma1 expressed in CHO-K1 cells co-expressing RXRalpha and PPRE after 1 day by luciferase reporter gene assay</td>\n",
       "      <td>B</td>\n",
       "      <td>BAO_0000188</td>\n",
       "      <td>BAO_0000219</td>\n",
       "      <td>Bioorg. Med. Chem.</td>\n",
       "      <td>6.200012</td>\n",
       "      <td>533.583984</td>\n",
       "      <td>5.0</td>\n",
       "      <td>2.0</td>\n",
       "      <td>8.21</td>\n",
       "    </tr>\n",
       "    <tr>\n",
       "      <th>199</th>\n",
       "      <td>Mean effective concentration against human peroxisome proliferator-activated receptor gamma</td>\n",
       "      <td>B</td>\n",
       "      <td>BAO_0000188</td>\n",
       "      <td>BAO_0000357</td>\n",
       "      <td>Bioorg. Med. Chem. Lett.</td>\n",
       "      <td>361.000000</td>\n",
       "      <td>392.471008</td>\n",
       "      <td>4.0</td>\n",
       "      <td>1.0</td>\n",
       "      <td>6.44</td>\n",
       "    </tr>\n",
       "    <tr>\n",
       "      <th>230</th>\n",
       "      <td>In vitro effective concentration against human peroxisome proliferator activated receptor gamma/Gal4 in cell-based transactivation assay</td>\n",
       "      <td>F</td>\n",
       "      <td>BAO_0000188</td>\n",
       "      <td>BAO_0000219</td>\n",
       "      <td>Bioorg. Med. Chem. Lett.</td>\n",
       "      <td>1356.000000</td>\n",
       "      <td>437.510986</td>\n",
       "      <td>4.0</td>\n",
       "      <td>1.0</td>\n",
       "      <td>5.87</td>\n",
       "    </tr>\n",
       "    <tr>\n",
       "      <th>159</th>\n",
       "      <td>Agonistic activity against PPAR (peroxisome proliferator activated receptor gamma) in Suarus chinesis</td>\n",
       "      <td>F</td>\n",
       "      <td>BAO_0000188</td>\n",
       "      <td>BAO_0000019</td>\n",
       "      <td>J. Med. Chem.</td>\n",
       "      <td>570.000000</td>\n",
       "      <td>408.479004</td>\n",
       "      <td>6.0</td>\n",
       "      <td>1.0</td>\n",
       "      <td>6.24</td>\n",
       "    </tr>\n",
       "    <tr>\n",
       "      <th>677</th>\n",
       "      <td>Agonist activity at human PPARgamma receptor expressed in african green monkey COS1 cells co-transfected with fused yeast Gal4-DBD by transactivation assay</td>\n",
       "      <td>F</td>\n",
       "      <td>BAO_0000188</td>\n",
       "      <td>BAO_0000219</td>\n",
       "      <td>J. Med. Chem.</td>\n",
       "      <td>10.000000</td>\n",
       "      <td>449.562012</td>\n",
       "      <td>6.0</td>\n",
       "      <td>1.0</td>\n",
       "      <td>8.00</td>\n",
       "    </tr>\n",
       "    <tr>\n",
       "      <th>331</th>\n",
       "      <td>#na#</td>\n",
       "      <td>#na#</td>\n",
       "      <td>#na#</td>\n",
       "      <td>#na#</td>\n",
       "      <td>#na#</td>\n",
       "      <td>NaN</td>\n",
       "      <td>534.633972</td>\n",
       "      <td>6.0</td>\n",
       "      <td>2.0</td>\n",
       "      <td>NaN</td>\n",
       "    </tr>\n",
       "    <tr>\n",
       "      <th>626</th>\n",
       "      <td>Agonist activity at human PPARgamma receptor expressed in african green monkey COS cells after 48 hrs by GAL4 transactivation assay</td>\n",
       "      <td>F</td>\n",
       "      <td>BAO_0000188</td>\n",
       "      <td>BAO_0000219</td>\n",
       "      <td>Bioorg. Med. Chem. Lett.</td>\n",
       "      <td>36.000000</td>\n",
       "      <td>444.871002</td>\n",
       "      <td>6.0</td>\n",
       "      <td>1.0</td>\n",
       "      <td>7.44</td>\n",
       "    </tr>\n",
       "    <tr>\n",
       "      <th>1379</th>\n",
       "      <td>Agonist activity at GAL4-tagged human PPAR receptor</td>\n",
       "      <td>B</td>\n",
       "      <td>BAO_0000188</td>\n",
       "      <td>BAO_0000357</td>\n",
       "      <td>J Med Chem</td>\n",
       "      <td>18.000000</td>\n",
       "      <td>NaN</td>\n",
       "      <td>NaN</td>\n",
       "      <td>NaN</td>\n",
       "      <td>7.75</td>\n",
       "    </tr>\n",
       "  </tbody>\n",
       "</table>"
      ],
      "text/plain": [
       "<IPython.core.display.HTML object>"
      ]
     },
     "metadata": {},
     "output_type": "display_data"
    }
   ],
   "source": [
    "to.show()"
   ]
  },
  {
   "cell_type": "markdown",
   "id": "8ad626f2",
   "metadata": {
    "papermill": {
     "duration": 0.014203,
     "end_time": "2023-04-29T19:54:10.314573",
     "exception": false,
     "start_time": "2023-04-29T19:54:10.300370",
     "status": "completed"
    },
    "tags": []
   },
   "source": [
    "# modell"
   ]
  },
  {
   "cell_type": "code",
   "execution_count": 33,
   "id": "7e31df9b",
   "metadata": {
    "execution": {
     "iopub.execute_input": "2023-04-29T19:54:10.346378Z",
     "iopub.status.busy": "2023-04-29T19:54:10.345427Z",
     "iopub.status.idle": "2023-04-29T19:54:11.469348Z",
     "shell.execute_reply": "2023-04-29T19:54:11.468204Z"
    },
    "papermill": {
     "duration": 1.142032,
     "end_time": "2023-04-29T19:54:11.471534",
     "exception": false,
     "start_time": "2023-04-29T19:54:10.329502",
     "status": "completed"
    },
    "tags": []
   },
   "outputs": [
    {
     "data": {
      "text/html": [
       "\n",
       "<style>\n",
       "    /* Turns off some styling */\n",
       "    progress {\n",
       "        /* gets rid of default border in Firefox and Opera. */\n",
       "        border: none;\n",
       "        /* Needs to be in here for Safari polyfill so background images work as expected. */\n",
       "        background-size: auto;\n",
       "    }\n",
       "    progress:not([value]), progress:not([value])::-webkit-progress-bar {\n",
       "        background: repeating-linear-gradient(45deg, #7e7e7e, #7e7e7e 10px, #5c5c5c 10px, #5c5c5c 20px);\n",
       "    }\n",
       "    .progress-bar-interrupted, .progress-bar-interrupted::-webkit-progress-bar {\n",
       "        background: #F44336;\n",
       "    }\n",
       "</style>\n"
      ],
      "text/plain": [
       "<IPython.core.display.HTML object>"
      ]
     },
     "metadata": {},
     "output_type": "display_data"
    },
    {
     "data": {
      "text/html": [
       "<table border=\"1\" class=\"dataframe\">\n",
       "  <thead>\n",
       "    <tr style=\"text-align: left;\">\n",
       "      <th>epoch</th>\n",
       "      <th>train_loss</th>\n",
       "      <th>valid_loss</th>\n",
       "      <th>_rmse</th>\n",
       "      <th>time</th>\n",
       "    </tr>\n",
       "  </thead>\n",
       "  <tbody>\n",
       "    <tr>\n",
       "      <td>0</td>\n",
       "      <td>nan</td>\n",
       "      <td>nan</td>\n",
       "      <td>nan</td>\n",
       "      <td>00:00</td>\n",
       "    </tr>\n",
       "    <tr>\n",
       "      <td>1</td>\n",
       "      <td>nan</td>\n",
       "      <td>nan</td>\n",
       "      <td>nan</td>\n",
       "      <td>00:00</td>\n",
       "    </tr>\n",
       "    <tr>\n",
       "      <td>2</td>\n",
       "      <td>nan</td>\n",
       "      <td>nan</td>\n",
       "      <td>nan</td>\n",
       "      <td>00:00</td>\n",
       "    </tr>\n",
       "    <tr>\n",
       "      <td>3</td>\n",
       "      <td>nan</td>\n",
       "      <td>nan</td>\n",
       "      <td>nan</td>\n",
       "      <td>00:00</td>\n",
       "    </tr>\n",
       "    <tr>\n",
       "      <td>4</td>\n",
       "      <td>nan</td>\n",
       "      <td>nan</td>\n",
       "      <td>nan</td>\n",
       "      <td>00:00</td>\n",
       "    </tr>\n",
       "  </tbody>\n",
       "</table>"
      ],
      "text/plain": [
       "<IPython.core.display.HTML object>"
      ]
     },
     "metadata": {},
     "output_type": "display_data"
    }
   ],
   "source": [
    "#en modell for tabular\n",
    "dls = to.dataloaders(bs=64)\n",
    "learn = tabular_learner(dls, layers=[200, 100], metrics=rmse)\n",
    "learn.fit_one_cycle(5, 1e-2)"
   ]
  },
  {
   "cell_type": "code",
   "execution_count": 34,
   "id": "58eb0217",
   "metadata": {
    "execution": {
     "iopub.execute_input": "2023-04-29T19:54:11.503873Z",
     "iopub.status.busy": "2023-04-29T19:54:11.503169Z",
     "iopub.status.idle": "2023-04-29T19:54:11.509971Z",
     "shell.execute_reply": "2023-04-29T19:54:11.508943Z"
    },
    "papermill": {
     "duration": 0.025792,
     "end_time": "2023-04-29T19:54:11.512547",
     "exception": false,
     "start_time": "2023-04-29T19:54:11.486755",
     "status": "completed"
    },
    "tags": []
   },
   "outputs": [],
   "source": [
    "# kopiert fra gpt, men den får det heller ikke til...\n",
    "\n",
    "\n",
    "\n",
    "# Create TextDataLoaders for the 'assay_description' column\n",
    "#text_dls = TextDataLoaders.from_df(data_combined, text_col='assay_description', is_lm=False, valid_pct=0.2)\n",
    "\n",
    "# Create TabularDataLoaders for the categorical and continuous columns\n",
    "#procs = [Categorify, Normalize]\n",
    "#splits = RandomSplitter(valid_pct=0.2)(range_of(data_combined))\n",
    "#tab_dls = TabularDataLoaders.from_df(data_combined, procs=procs, cat_names=cat_cols, cont_names=cont_cols, y_names='pchembl_value', y_block=RegressionBlock, splits=splits)\n",
    "\n",
    "# Create a language model using the text_dls\n",
    "#learn_text = text_classifier_learner(text_dls, AWD_LSTM, drop_mult=0.5, metrics=accuracy)\n",
    "#learn_text = learn_text.load_encoder('finetuned')\n",
    "\n",
    "# Custom mixed dataloader class\n",
    "#class MixedDL(DataLoader):\n",
    "  #  def __init__(self, text_dl, tab_dl):\n",
    "  #      self.text_dl = text_dl\n",
    "  #      self.tab_dl = tab_dl\n",
    "#\n",
    "  #  def __iter__(self):\n",
    "  #      for x1, y1 in self.text_dl:\n",
    "  #          x2, y2 = next(iter(self.tab_dl))\n",
    "   #         yield (x1, x2), y1\n",
    "\n",
    "   # def __len__(self):\n",
    "  #      return len(self.text_dl)\n",
    "\n",
    "# Combine the TextDataLoaders and TabularDataLoaders using MixedDL\n",
    "#train_dl = MixedDL(text_dls.train, tab_dls.train)\n",
    "#valid_dl = MixedDL(text_dls.valid, tab_dls.valid)\n",
    "#dls_combined = DataLoaders(train_dl, valid_dl)\n",
    "\n",
    "# Define the model architecture\n",
    "#class CombinedModel(Module):\n",
    "   # def __init__(self, text_model, tabular_model):\n",
    "   #3     self.text_model = text_model\n",
    "   ##     self.tabular_model = tabular_model\n",
    "    #    self.final = nn.Linear(100 + 1, 1)\n",
    "\n",
    "  #  def forward(self, x):\n",
    "     #   x_text = self.text_model(x[0])\n",
    "     #   x_tab = self.tabular_model(x[1])\n",
    "     #   x_combined = torch.cat([x_text, x_tab], dim=1)\n",
    "     #   return self.final(x_combined)\n",
    "\n",
    "#text_model = learn_text.model[0]\n",
    "#tabular_model = tab_dls.model\n",
    "#model = CombinedModel(text_model, tabular_model)\n",
    "\n",
    "# Train the model using the combined DataLoader\n",
    "#learn = Learner(dls_combined, model, loss_func=MSELossFlat(), metrics=rmse)\n",
    "#learn.fit_one_cycle(5, 1e-2)"
   ]
  },
  {
   "cell_type": "code",
   "execution_count": null,
   "id": "63df78e4",
   "metadata": {
    "papermill": {
     "duration": 0.014696,
     "end_time": "2023-04-29T19:54:11.542305",
     "exception": false,
     "start_time": "2023-04-29T19:54:11.527609",
     "status": "completed"
    },
    "tags": []
   },
   "outputs": [],
   "source": []
  }
 ],
 "metadata": {
  "kernelspec": {
   "display_name": "Python 3",
   "language": "python",
   "name": "python3"
  },
  "language_info": {
   "codemirror_mode": {
    "name": "ipython",
    "version": 3
   },
   "file_extension": ".py",
   "mimetype": "text/x-python",
   "name": "python",
   "nbconvert_exporter": "python",
   "pygments_lexer": "ipython3",
   "version": "3.7.12"
  },
  "papermill": {
   "default_parameters": {},
   "duration": 222.744237,
   "end_time": "2023-04-29T19:54:14.301460",
   "environment_variables": {},
   "exception": null,
   "input_path": "__notebook__.ipynb",
   "output_path": "__notebook__.ipynb",
   "parameters": {},
   "start_time": "2023-04-29T19:50:31.557223",
   "version": "2.4.0"
  }
 },
 "nbformat": 4,
 "nbformat_minor": 5
}
