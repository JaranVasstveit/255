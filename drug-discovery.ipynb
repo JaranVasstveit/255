{
 "cells": [
  {
   "cell_type": "code",
   "execution_count": 1,
   "id": "1c0179d2",
   "metadata": {
    "execution": {
     "iopub.execute_input": "2023-04-23T22:54:08.308542Z",
     "iopub.status.busy": "2023-04-23T22:54:08.307983Z",
     "iopub.status.idle": "2023-04-23T22:54:24.111963Z",
     "shell.execute_reply": "2023-04-23T22:54:24.110306Z"
    },
    "papermill": {
     "duration": 15.818747,
     "end_time": "2023-04-23T22:54:24.115083",
     "exception": false,
     "start_time": "2023-04-23T22:54:08.296336",
     "status": "completed"
    },
    "tags": []
   },
   "outputs": [
    {
     "name": "stdout",
     "output_type": "stream",
     "text": [
      "Collecting deepchem\r\n",
      "  Downloading deepchem-2.7.1-py3-none-any.whl (693 kB)\r\n",
      "\u001b[2K     \u001b[90m━━━━━━━━━━━━━━━━━━━━━━━━━━━━━━━━━━━━━━━\u001b[0m \u001b[32m693.2/693.2 kB\u001b[0m \u001b[31m9.9 MB/s\u001b[0m eta \u001b[36m0:00:00\u001b[0m\r\n",
      "\u001b[?25hRequirement already satisfied: pandas in /opt/conda/lib/python3.7/site-packages (from deepchem) (1.3.5)\r\n",
      "Requirement already satisfied: scipy<1.9 in /opt/conda/lib/python3.7/site-packages (from deepchem) (1.7.3)\r\n",
      "Requirement already satisfied: joblib in /opt/conda/lib/python3.7/site-packages (from deepchem) (1.2.0)\r\n",
      "Requirement already satisfied: numpy>=1.21 in /opt/conda/lib/python3.7/site-packages (from deepchem) (1.21.6)\r\n",
      "Collecting rdkit\r\n",
      "  Downloading rdkit-2022.9.5-cp37-cp37m-manylinux_2_17_x86_64.manylinux2014_x86_64.whl (29.2 MB)\r\n",
      "\u001b[2K     \u001b[90m━━━━━━━━━━━━━━━━━━━━━━━━━━━━━━━━━━━━━━━━\u001b[0m \u001b[32m29.2/29.2 MB\u001b[0m \u001b[31m33.8 MB/s\u001b[0m eta \u001b[36m0:00:00\u001b[0m\r\n",
      "\u001b[?25hRequirement already satisfied: scikit-learn in /opt/conda/lib/python3.7/site-packages (from deepchem) (1.0.2)\r\n",
      "Requirement already satisfied: pytz>=2017.3 in /opt/conda/lib/python3.7/site-packages (from pandas->deepchem) (2022.7.1)\r\n",
      "Requirement already satisfied: python-dateutil>=2.7.3 in /opt/conda/lib/python3.7/site-packages (from pandas->deepchem) (2.8.2)\r\n",
      "Requirement already satisfied: Pillow in /opt/conda/lib/python3.7/site-packages (from rdkit->deepchem) (9.4.0)\r\n",
      "Requirement already satisfied: threadpoolctl>=2.0.0 in /opt/conda/lib/python3.7/site-packages (from scikit-learn->deepchem) (3.1.0)\r\n",
      "Requirement already satisfied: six>=1.5 in /opt/conda/lib/python3.7/site-packages (from python-dateutil>=2.7.3->pandas->deepchem) (1.16.0)\r\n",
      "Installing collected packages: rdkit, deepchem\r\n",
      "Successfully installed deepchem-2.7.1 rdkit-2022.9.5\r\n",
      "\u001b[33mWARNING: Running pip as the 'root' user can result in broken permissions and conflicting behaviour with the system package manager. It is recommended to use a virtual environment instead: https://pip.pypa.io/warnings/venv\u001b[0m\u001b[33m\r\n",
      "\u001b[0m"
     ]
    }
   ],
   "source": [
    "!pip install deepchem"
   ]
  },
  {
   "cell_type": "code",
   "execution_count": 2,
   "id": "ed2aa557",
   "metadata": {
    "execution": {
     "iopub.execute_input": "2023-04-23T22:54:24.137497Z",
     "iopub.status.busy": "2023-04-23T22:54:24.137061Z",
     "iopub.status.idle": "2023-04-23T22:54:41.099169Z",
     "shell.execute_reply": "2023-04-23T22:54:41.097893Z"
    },
    "papermill": {
     "duration": 16.976748,
     "end_time": "2023-04-23T22:54:41.102244",
     "exception": false,
     "start_time": "2023-04-23T22:54:24.125496",
     "status": "completed"
    },
    "tags": []
   },
   "outputs": [
    {
     "name": "stderr",
     "output_type": "stream",
     "text": [
      "\u001b[34m\u001b[1mwandb\u001b[0m: \u001b[33mWARNING\u001b[0m W&B installed but not logged in.  Run `wandb login` or set the WANDB_API_KEY env variable.\n",
      "\u001b[34m\u001b[1mwandb\u001b[0m: \u001b[33mWARNING\u001b[0m W&B installed but not logged in.  Run `wandb login` or set the WANDB_API_KEY env variable.\n"
     ]
    },
    {
     "name": "stdout",
     "output_type": "stream",
     "text": [
      "/kaggle/input/bioactivity-data/PPARg_bioactivity_data_nM.csv\n",
      "/kaggle/input/bioactivity-data/PPARg_bioactivity_data_no_missing_data_values .csv\n"
     ]
    }
   ],
   "source": [
    "import numpy as np\n",
    "import pandas as pd\n",
    "from sklearn.preprocessing import OneHotEncoder, LabelEncoder\n",
    "import deepchem as dc\n",
    "from rdkit import Chem\n",
    "from sklearn.model_selection import train_test_split\n",
    "from sklearn.ensemble import RandomForestRegressor\n",
    "from sklearn.metrics import r2_score, mean_squared_error, mean_absolute_error\n",
    "from sklearn.model_selection import cross_val_score, GridSearchCV\n",
    "from sklearn.feature_selection import SelectKBest, f_regression\n",
    "\n",
    "\n",
    "\n",
    "\n",
    "import os\n",
    "for dirname, _, filenames in os.walk('/kaggle/input'):\n",
    "    for filename in filenames:\n",
    "        print(os.path.join(dirname, filename))\n"
   ]
  },
  {
   "cell_type": "code",
   "execution_count": 3,
   "id": "61535b05",
   "metadata": {
    "execution": {
     "iopub.execute_input": "2023-04-23T22:54:41.124948Z",
     "iopub.status.busy": "2023-04-23T22:54:41.124051Z",
     "iopub.status.idle": "2023-04-23T22:54:41.200717Z",
     "shell.execute_reply": "2023-04-23T22:54:41.199350Z"
    },
    "papermill": {
     "duration": 0.091513,
     "end_time": "2023-04-23T22:54:41.203826",
     "exception": false,
     "start_time": "2023-04-23T22:54:41.112313",
     "status": "completed"
    },
    "tags": []
   },
   "outputs": [],
   "source": [
    "biodata = pd.read_csv('/kaggle/input/bioactivity-data/PPARg_bioactivity_data_nM.csv')\n",
    "biomiss = pd.read_csv('/kaggle/input/bioactivity-data/PPARg_bioactivity_data_no_missing_data_values .csv')"
   ]
  },
  {
   "cell_type": "markdown",
   "id": "bca639bf",
   "metadata": {
    "papermill": {
     "duration": 0.010059,
     "end_time": "2023-04-23T22:54:41.223998",
     "exception": false,
     "start_time": "2023-04-23T22:54:41.213939",
     "status": "completed"
    },
    "tags": []
   },
   "source": [
    "# se på data"
   ]
  },
  {
   "cell_type": "code",
   "execution_count": 4,
   "id": "23f9cf3e",
   "metadata": {
    "execution": {
     "iopub.execute_input": "2023-04-23T22:54:41.245168Z",
     "iopub.status.busy": "2023-04-23T22:54:41.244765Z",
     "iopub.status.idle": "2023-04-23T22:54:41.249953Z",
     "shell.execute_reply": "2023-04-23T22:54:41.248935Z"
    },
    "papermill": {
     "duration": 0.018535,
     "end_time": "2023-04-23T22:54:41.252230",
     "exception": false,
     "start_time": "2023-04-23T22:54:41.233695",
     "status": "completed"
    },
    "tags": []
   },
   "outputs": [],
   "source": [
    "pd.set_option('display.max_columns', None)"
   ]
  },
  {
   "cell_type": "code",
   "execution_count": 5,
   "id": "77f5d14f",
   "metadata": {
    "execution": {
     "iopub.execute_input": "2023-04-23T22:54:41.274480Z",
     "iopub.status.busy": "2023-04-23T22:54:41.273708Z",
     "iopub.status.idle": "2023-04-23T22:54:41.328994Z",
     "shell.execute_reply": "2023-04-23T22:54:41.327617Z"
    },
    "papermill": {
     "duration": 0.0694,
     "end_time": "2023-04-23T22:54:41.331642",
     "exception": false,
     "start_time": "2023-04-23T22:54:41.262242",
     "status": "completed"
    },
    "tags": []
   },
   "outputs": [
    {
     "data": {
      "text/html": [
       "<div>\n",
       "<style scoped>\n",
       "    .dataframe tbody tr th:only-of-type {\n",
       "        vertical-align: middle;\n",
       "    }\n",
       "\n",
       "    .dataframe tbody tr th {\n",
       "        vertical-align: top;\n",
       "    }\n",
       "\n",
       "    .dataframe thead th {\n",
       "        text-align: right;\n",
       "    }\n",
       "</style>\n",
       "<table border=\"1\" class=\"dataframe\">\n",
       "  <thead>\n",
       "    <tr style=\"text-align: right;\">\n",
       "      <th></th>\n",
       "      <th>activity_comment</th>\n",
       "      <th>activity_id</th>\n",
       "      <th>activity_properties</th>\n",
       "      <th>assay_chembl_id</th>\n",
       "      <th>assay_description</th>\n",
       "      <th>assay_type</th>\n",
       "      <th>assay_variant_accession</th>\n",
       "      <th>assay_variant_mutation</th>\n",
       "      <th>bao_endpoint</th>\n",
       "      <th>bao_format</th>\n",
       "      <th>bao_label</th>\n",
       "      <th>canonical_smiles</th>\n",
       "      <th>data_validity_comment</th>\n",
       "      <th>data_validity_description</th>\n",
       "      <th>document_chembl_id</th>\n",
       "      <th>document_journal</th>\n",
       "      <th>document_year</th>\n",
       "      <th>ligand_efficiency</th>\n",
       "      <th>molecule_chembl_id</th>\n",
       "      <th>molecule_pref_name</th>\n",
       "      <th>parent_molecule_chembl_id</th>\n",
       "      <th>pchembl_value</th>\n",
       "      <th>potential_duplicate</th>\n",
       "      <th>qudt_units</th>\n",
       "      <th>record_id</th>\n",
       "      <th>relation</th>\n",
       "      <th>src_id</th>\n",
       "      <th>standard_flag</th>\n",
       "      <th>standard_relation</th>\n",
       "      <th>standard_text_value</th>\n",
       "      <th>standard_type</th>\n",
       "      <th>standard_units</th>\n",
       "      <th>standard_upper_value</th>\n",
       "      <th>standard_value</th>\n",
       "      <th>target_chembl_id</th>\n",
       "      <th>target_organism</th>\n",
       "      <th>target_pref_name</th>\n",
       "      <th>target_tax_id</th>\n",
       "      <th>text_value</th>\n",
       "      <th>toid</th>\n",
       "      <th>type</th>\n",
       "      <th>units</th>\n",
       "      <th>uo_units</th>\n",
       "      <th>upper_value</th>\n",
       "      <th>value</th>\n",
       "    </tr>\n",
       "  </thead>\n",
       "  <tbody>\n",
       "    <tr>\n",
       "      <th>0</th>\n",
       "      <td>NaN</td>\n",
       "      <td>32233</td>\n",
       "      <td>[]</td>\n",
       "      <td>CHEMBL658541</td>\n",
       "      <td>In vitro agonist efficacy against PPAR gamma a...</td>\n",
       "      <td>F</td>\n",
       "      <td>NaN</td>\n",
       "      <td>NaN</td>\n",
       "      <td>BAO_0000188</td>\n",
       "      <td>BAO_0000019</td>\n",
       "      <td>assay format</td>\n",
       "      <td>CC(/C=C/C(F)=C(/C)c1cc(C(C)(C)C)cc(C(C)(C)C)c1...</td>\n",
       "      <td>NaN</td>\n",
       "      <td>NaN</td>\n",
       "      <td>CHEMBL1136440</td>\n",
       "      <td>Bioorg. Med. Chem. Lett.</td>\n",
       "      <td>2003</td>\n",
       "      <td>NaN</td>\n",
       "      <td>CHEMBL111217</td>\n",
       "      <td>NaN</td>\n",
       "      <td>CHEMBL111217</td>\n",
       "      <td>7.20</td>\n",
       "      <td>0</td>\n",
       "      <td>http://www.openphacts.org/units/Nanomolar</td>\n",
       "      <td>251326</td>\n",
       "      <td>=</td>\n",
       "      <td>1</td>\n",
       "      <td>1</td>\n",
       "      <td>=</td>\n",
       "      <td>NaN</td>\n",
       "      <td>EC50</td>\n",
       "      <td>nM</td>\n",
       "      <td>NaN</td>\n",
       "      <td>63.0</td>\n",
       "      <td>CHEMBL235</td>\n",
       "      <td>Homo sapiens</td>\n",
       "      <td>Peroxisome proliferator-activated receptor gamma</td>\n",
       "      <td>9606</td>\n",
       "      <td>NaN</td>\n",
       "      <td>NaN</td>\n",
       "      <td>EC50</td>\n",
       "      <td>nM</td>\n",
       "      <td>UO_0000065</td>\n",
       "      <td>NaN</td>\n",
       "      <td>63.0</td>\n",
       "    </tr>\n",
       "    <tr>\n",
       "      <th>1</th>\n",
       "      <td>NaN</td>\n",
       "      <td>32234</td>\n",
       "      <td>[]</td>\n",
       "      <td>CHEMBL656170</td>\n",
       "      <td>In vitro agonistic activity against PPAR gamma...</td>\n",
       "      <td>F</td>\n",
       "      <td>NaN</td>\n",
       "      <td>NaN</td>\n",
       "      <td>BAO_0000188</td>\n",
       "      <td>BAO_0000019</td>\n",
       "      <td>assay format</td>\n",
       "      <td>CC(/C=C/C(F)=C(/C)c1cc(C(C)(C)C)cc(C(C)(C)C)c1...</td>\n",
       "      <td>NaN</td>\n",
       "      <td>NaN</td>\n",
       "      <td>CHEMBL1136440</td>\n",
       "      <td>Bioorg. Med. Chem. Lett.</td>\n",
       "      <td>2003</td>\n",
       "      <td>NaN</td>\n",
       "      <td>CHEMBL111217</td>\n",
       "      <td>NaN</td>\n",
       "      <td>CHEMBL111217</td>\n",
       "      <td>8.19</td>\n",
       "      <td>0</td>\n",
       "      <td>http://www.openphacts.org/units/Nanomolar</td>\n",
       "      <td>251326</td>\n",
       "      <td>=</td>\n",
       "      <td>1</td>\n",
       "      <td>1</td>\n",
       "      <td>=</td>\n",
       "      <td>NaN</td>\n",
       "      <td>EC50</td>\n",
       "      <td>nM</td>\n",
       "      <td>NaN</td>\n",
       "      <td>6.4</td>\n",
       "      <td>CHEMBL235</td>\n",
       "      <td>Homo sapiens</td>\n",
       "      <td>Peroxisome proliferator-activated receptor gamma</td>\n",
       "      <td>9606</td>\n",
       "      <td>NaN</td>\n",
       "      <td>NaN</td>\n",
       "      <td>EC50</td>\n",
       "      <td>nM</td>\n",
       "      <td>UO_0000065</td>\n",
       "      <td>NaN</td>\n",
       "      <td>6.4</td>\n",
       "    </tr>\n",
       "    <tr>\n",
       "      <th>2</th>\n",
       "      <td>NaN</td>\n",
       "      <td>33386</td>\n",
       "      <td>[]</td>\n",
       "      <td>CHEMBL658541</td>\n",
       "      <td>In vitro agonist efficacy against PPAR gamma a...</td>\n",
       "      <td>F</td>\n",
       "      <td>NaN</td>\n",
       "      <td>NaN</td>\n",
       "      <td>BAO_0000188</td>\n",
       "      <td>BAO_0000019</td>\n",
       "      <td>assay format</td>\n",
       "      <td>CCC(C)(C)c1cc(/C(C)=C(F)\\C=C\\C(C)=C\\C(=O)O)c(O...</td>\n",
       "      <td>NaN</td>\n",
       "      <td>NaN</td>\n",
       "      <td>CHEMBL1136440</td>\n",
       "      <td>Bioorg. Med. Chem. Lett.</td>\n",
       "      <td>2003</td>\n",
       "      <td>NaN</td>\n",
       "      <td>CHEMBL130231</td>\n",
       "      <td>NaN</td>\n",
       "      <td>CHEMBL130231</td>\n",
       "      <td>7.29</td>\n",
       "      <td>0</td>\n",
       "      <td>http://www.openphacts.org/units/Nanomolar</td>\n",
       "      <td>251310</td>\n",
       "      <td>=</td>\n",
       "      <td>1</td>\n",
       "      <td>1</td>\n",
       "      <td>=</td>\n",
       "      <td>NaN</td>\n",
       "      <td>EC50</td>\n",
       "      <td>nM</td>\n",
       "      <td>NaN</td>\n",
       "      <td>51.0</td>\n",
       "      <td>CHEMBL235</td>\n",
       "      <td>Homo sapiens</td>\n",
       "      <td>Peroxisome proliferator-activated receptor gamma</td>\n",
       "      <td>9606</td>\n",
       "      <td>NaN</td>\n",
       "      <td>NaN</td>\n",
       "      <td>EC50</td>\n",
       "      <td>nM</td>\n",
       "      <td>UO_0000065</td>\n",
       "      <td>NaN</td>\n",
       "      <td>51.0</td>\n",
       "    </tr>\n",
       "    <tr>\n",
       "      <th>3</th>\n",
       "      <td>NaN</td>\n",
       "      <td>33387</td>\n",
       "      <td>[]</td>\n",
       "      <td>CHEMBL656170</td>\n",
       "      <td>In vitro agonistic activity against PPAR gamma...</td>\n",
       "      <td>F</td>\n",
       "      <td>NaN</td>\n",
       "      <td>NaN</td>\n",
       "      <td>BAO_0000188</td>\n",
       "      <td>BAO_0000019</td>\n",
       "      <td>assay format</td>\n",
       "      <td>CCC(C)(C)c1cc(/C(C)=C(F)\\C=C\\C(C)=C\\C(=O)O)c(O...</td>\n",
       "      <td>NaN</td>\n",
       "      <td>NaN</td>\n",
       "      <td>CHEMBL1136440</td>\n",
       "      <td>Bioorg. Med. Chem. Lett.</td>\n",
       "      <td>2003</td>\n",
       "      <td>NaN</td>\n",
       "      <td>CHEMBL130231</td>\n",
       "      <td>NaN</td>\n",
       "      <td>CHEMBL130231</td>\n",
       "      <td>8.57</td>\n",
       "      <td>0</td>\n",
       "      <td>http://www.openphacts.org/units/Nanomolar</td>\n",
       "      <td>251310</td>\n",
       "      <td>=</td>\n",
       "      <td>1</td>\n",
       "      <td>1</td>\n",
       "      <td>=</td>\n",
       "      <td>NaN</td>\n",
       "      <td>EC50</td>\n",
       "      <td>nM</td>\n",
       "      <td>NaN</td>\n",
       "      <td>2.7</td>\n",
       "      <td>CHEMBL235</td>\n",
       "      <td>Homo sapiens</td>\n",
       "      <td>Peroxisome proliferator-activated receptor gamma</td>\n",
       "      <td>9606</td>\n",
       "      <td>NaN</td>\n",
       "      <td>NaN</td>\n",
       "      <td>EC50</td>\n",
       "      <td>nM</td>\n",
       "      <td>UO_0000065</td>\n",
       "      <td>NaN</td>\n",
       "      <td>2.7</td>\n",
       "    </tr>\n",
       "    <tr>\n",
       "      <th>4</th>\n",
       "      <td>NaN</td>\n",
       "      <td>35892</td>\n",
       "      <td>[]</td>\n",
       "      <td>CHEMBL658541</td>\n",
       "      <td>In vitro agonist efficacy against PPAR gamma a...</td>\n",
       "      <td>F</td>\n",
       "      <td>NaN</td>\n",
       "      <td>NaN</td>\n",
       "      <td>BAO_0000188</td>\n",
       "      <td>BAO_0000019</td>\n",
       "      <td>assay format</td>\n",
       "      <td>C/C(=C/C=C/C(C)=C/C(=O)O)c1cc(-c2cc(F)cc(F)c2)...</td>\n",
       "      <td>NaN</td>\n",
       "      <td>NaN</td>\n",
       "      <td>CHEMBL1136440</td>\n",
       "      <td>Bioorg. Med. Chem. Lett.</td>\n",
       "      <td>2003</td>\n",
       "      <td>NaN</td>\n",
       "      <td>CHEMBL337393</td>\n",
       "      <td>NaN</td>\n",
       "      <td>CHEMBL337393</td>\n",
       "      <td>7.40</td>\n",
       "      <td>0</td>\n",
       "      <td>http://www.openphacts.org/units/Nanomolar</td>\n",
       "      <td>251312</td>\n",
       "      <td>=</td>\n",
       "      <td>1</td>\n",
       "      <td>1</td>\n",
       "      <td>=</td>\n",
       "      <td>NaN</td>\n",
       "      <td>EC50</td>\n",
       "      <td>nM</td>\n",
       "      <td>NaN</td>\n",
       "      <td>40.0</td>\n",
       "      <td>CHEMBL235</td>\n",
       "      <td>Homo sapiens</td>\n",
       "      <td>Peroxisome proliferator-activated receptor gamma</td>\n",
       "      <td>9606</td>\n",
       "      <td>NaN</td>\n",
       "      <td>NaN</td>\n",
       "      <td>EC50</td>\n",
       "      <td>nM</td>\n",
       "      <td>UO_0000065</td>\n",
       "      <td>NaN</td>\n",
       "      <td>40.0</td>\n",
       "    </tr>\n",
       "  </tbody>\n",
       "</table>\n",
       "</div>"
      ],
      "text/plain": [
       "   activity_comment  activity_id activity_properties assay_chembl_id  \\\n",
       "0               NaN        32233                  []    CHEMBL658541   \n",
       "1               NaN        32234                  []    CHEMBL656170   \n",
       "2               NaN        33386                  []    CHEMBL658541   \n",
       "3               NaN        33387                  []    CHEMBL656170   \n",
       "4               NaN        35892                  []    CHEMBL658541   \n",
       "\n",
       "                                   assay_description assay_type  \\\n",
       "0  In vitro agonist efficacy against PPAR gamma a...          F   \n",
       "1  In vitro agonistic activity against PPAR gamma...          F   \n",
       "2  In vitro agonist efficacy against PPAR gamma a...          F   \n",
       "3  In vitro agonistic activity against PPAR gamma...          F   \n",
       "4  In vitro agonist efficacy against PPAR gamma a...          F   \n",
       "\n",
       "   assay_variant_accession  assay_variant_mutation bao_endpoint   bao_format  \\\n",
       "0                      NaN                     NaN  BAO_0000188  BAO_0000019   \n",
       "1                      NaN                     NaN  BAO_0000188  BAO_0000019   \n",
       "2                      NaN                     NaN  BAO_0000188  BAO_0000019   \n",
       "3                      NaN                     NaN  BAO_0000188  BAO_0000019   \n",
       "4                      NaN                     NaN  BAO_0000188  BAO_0000019   \n",
       "\n",
       "      bao_label                                   canonical_smiles  \\\n",
       "0  assay format  CC(/C=C/C(F)=C(/C)c1cc(C(C)(C)C)cc(C(C)(C)C)c1...   \n",
       "1  assay format  CC(/C=C/C(F)=C(/C)c1cc(C(C)(C)C)cc(C(C)(C)C)c1...   \n",
       "2  assay format  CCC(C)(C)c1cc(/C(C)=C(F)\\C=C\\C(C)=C\\C(=O)O)c(O...   \n",
       "3  assay format  CCC(C)(C)c1cc(/C(C)=C(F)\\C=C\\C(C)=C\\C(=O)O)c(O...   \n",
       "4  assay format  C/C(=C/C=C/C(C)=C/C(=O)O)c1cc(-c2cc(F)cc(F)c2)...   \n",
       "\n",
       "  data_validity_comment data_validity_description document_chembl_id  \\\n",
       "0                   NaN                       NaN      CHEMBL1136440   \n",
       "1                   NaN                       NaN      CHEMBL1136440   \n",
       "2                   NaN                       NaN      CHEMBL1136440   \n",
       "3                   NaN                       NaN      CHEMBL1136440   \n",
       "4                   NaN                       NaN      CHEMBL1136440   \n",
       "\n",
       "           document_journal  document_year ligand_efficiency  \\\n",
       "0  Bioorg. Med. Chem. Lett.           2003               NaN   \n",
       "1  Bioorg. Med. Chem. Lett.           2003               NaN   \n",
       "2  Bioorg. Med. Chem. Lett.           2003               NaN   \n",
       "3  Bioorg. Med. Chem. Lett.           2003               NaN   \n",
       "4  Bioorg. Med. Chem. Lett.           2003               NaN   \n",
       "\n",
       "  molecule_chembl_id molecule_pref_name parent_molecule_chembl_id  \\\n",
       "0       CHEMBL111217                NaN              CHEMBL111217   \n",
       "1       CHEMBL111217                NaN              CHEMBL111217   \n",
       "2       CHEMBL130231                NaN              CHEMBL130231   \n",
       "3       CHEMBL130231                NaN              CHEMBL130231   \n",
       "4       CHEMBL337393                NaN              CHEMBL337393   \n",
       "\n",
       "   pchembl_value  potential_duplicate  \\\n",
       "0           7.20                    0   \n",
       "1           8.19                    0   \n",
       "2           7.29                    0   \n",
       "3           8.57                    0   \n",
       "4           7.40                    0   \n",
       "\n",
       "                                  qudt_units  record_id relation  src_id  \\\n",
       "0  http://www.openphacts.org/units/Nanomolar     251326        =       1   \n",
       "1  http://www.openphacts.org/units/Nanomolar     251326        =       1   \n",
       "2  http://www.openphacts.org/units/Nanomolar     251310        =       1   \n",
       "3  http://www.openphacts.org/units/Nanomolar     251310        =       1   \n",
       "4  http://www.openphacts.org/units/Nanomolar     251312        =       1   \n",
       "\n",
       "   standard_flag standard_relation  standard_text_value standard_type  \\\n",
       "0              1                 =                  NaN          EC50   \n",
       "1              1                 =                  NaN          EC50   \n",
       "2              1                 =                  NaN          EC50   \n",
       "3              1                 =                  NaN          EC50   \n",
       "4              1                 =                  NaN          EC50   \n",
       "\n",
       "  standard_units  standard_upper_value  standard_value target_chembl_id  \\\n",
       "0             nM                   NaN            63.0        CHEMBL235   \n",
       "1             nM                   NaN             6.4        CHEMBL235   \n",
       "2             nM                   NaN            51.0        CHEMBL235   \n",
       "3             nM                   NaN             2.7        CHEMBL235   \n",
       "4             nM                   NaN            40.0        CHEMBL235   \n",
       "\n",
       "  target_organism                                  target_pref_name  \\\n",
       "0    Homo sapiens  Peroxisome proliferator-activated receptor gamma   \n",
       "1    Homo sapiens  Peroxisome proliferator-activated receptor gamma   \n",
       "2    Homo sapiens  Peroxisome proliferator-activated receptor gamma   \n",
       "3    Homo sapiens  Peroxisome proliferator-activated receptor gamma   \n",
       "4    Homo sapiens  Peroxisome proliferator-activated receptor gamma   \n",
       "\n",
       "   target_tax_id  text_value  toid  type units    uo_units  upper_value  value  \n",
       "0           9606         NaN   NaN  EC50    nM  UO_0000065          NaN   63.0  \n",
       "1           9606         NaN   NaN  EC50    nM  UO_0000065          NaN    6.4  \n",
       "2           9606         NaN   NaN  EC50    nM  UO_0000065          NaN   51.0  \n",
       "3           9606         NaN   NaN  EC50    nM  UO_0000065          NaN    2.7  \n",
       "4           9606         NaN   NaN  EC50    nM  UO_0000065          NaN   40.0  "
      ]
     },
     "execution_count": 5,
     "metadata": {},
     "output_type": "execute_result"
    }
   ],
   "source": [
    "biodata.head()"
   ]
  },
  {
   "cell_type": "code",
   "execution_count": 6,
   "id": "cf80dbaa",
   "metadata": {
    "execution": {
     "iopub.execute_input": "2023-04-23T22:54:41.355349Z",
     "iopub.status.busy": "2023-04-23T22:54:41.354047Z",
     "iopub.status.idle": "2023-04-23T22:54:41.389470Z",
     "shell.execute_reply": "2023-04-23T22:54:41.387477Z"
    },
    "papermill": {
     "duration": 0.049625,
     "end_time": "2023-04-23T22:54:41.392092",
     "exception": false,
     "start_time": "2023-04-23T22:54:41.342467",
     "status": "completed"
    },
    "tags": []
   },
   "outputs": [
    {
     "name": "stdout",
     "output_type": "stream",
     "text": [
      "<class 'pandas.core.frame.DataFrame'>\n",
      "RangeIndex: 1445 entries, 0 to 1444\n",
      "Data columns (total 45 columns):\n",
      " #   Column                     Non-Null Count  Dtype  \n",
      "---  ------                     --------------  -----  \n",
      " 0   activity_comment           50 non-null     float64\n",
      " 1   activity_id                1445 non-null   int64  \n",
      " 2   activity_properties        1445 non-null   object \n",
      " 3   assay_chembl_id            1445 non-null   object \n",
      " 4   assay_description          1445 non-null   object \n",
      " 5   assay_type                 1445 non-null   object \n",
      " 6   assay_variant_accession    0 non-null      float64\n",
      " 7   assay_variant_mutation     0 non-null      float64\n",
      " 8   bao_endpoint               1445 non-null   object \n",
      " 9   bao_format                 1445 non-null   object \n",
      " 10  bao_label                  1445 non-null   object \n",
      " 11  canonical_smiles           1445 non-null   object \n",
      " 12  data_validity_comment      4 non-null      object \n",
      " 13  data_validity_description  4 non-null      object \n",
      " 14  document_chembl_id         1445 non-null   object \n",
      " 15  document_journal           1395 non-null   object \n",
      " 16  document_year              1445 non-null   int64  \n",
      " 17  ligand_efficiency          697 non-null    object \n",
      " 18  molecule_chembl_id         1445 non-null   object \n",
      " 19  molecule_pref_name         109 non-null    object \n",
      " 20  parent_molecule_chembl_id  1445 non-null   object \n",
      " 21  pchembl_value              1273 non-null   float64\n",
      " 22  potential_duplicate        1445 non-null   int64  \n",
      " 23  qudt_units                 1384 non-null   object \n",
      " 24  record_id                  1445 non-null   int64  \n",
      " 25  relation                   1445 non-null   object \n",
      " 26  src_id                     1445 non-null   int64  \n",
      " 27  standard_flag              1445 non-null   int64  \n",
      " 28  standard_relation          1445 non-null   object \n",
      " 29  standard_text_value        0 non-null      float64\n",
      " 30  standard_type              1445 non-null   object \n",
      " 31  standard_units             1445 non-null   object \n",
      " 32  standard_upper_value       0 non-null      float64\n",
      " 33  standard_value             1445 non-null   float64\n",
      " 34  target_chembl_id           1445 non-null   object \n",
      " 35  target_organism            1445 non-null   object \n",
      " 36  target_pref_name           1445 non-null   object \n",
      " 37  target_tax_id              1445 non-null   int64  \n",
      " 38  text_value                 0 non-null      float64\n",
      " 39  toid                       0 non-null      float64\n",
      " 40  type                       1445 non-null   object \n",
      " 41  units                      1445 non-null   object \n",
      " 42  uo_units                   1384 non-null   object \n",
      " 43  upper_value                4 non-null      float64\n",
      " 44  value                      1445 non-null   float64\n",
      "dtypes: float64(11), int64(7), object(27)\n",
      "memory usage: 508.1+ KB\n"
     ]
    }
   ],
   "source": [
    "biodata.info()"
   ]
  },
  {
   "cell_type": "code",
   "execution_count": 7,
   "id": "dd5502ee",
   "metadata": {
    "execution": {
     "iopub.execute_input": "2023-04-23T22:54:41.422259Z",
     "iopub.status.busy": "2023-04-23T22:54:41.421362Z",
     "iopub.status.idle": "2023-04-23T22:54:41.469826Z",
     "shell.execute_reply": "2023-04-23T22:54:41.468023Z"
    },
    "papermill": {
     "duration": 0.066761,
     "end_time": "2023-04-23T22:54:41.473093",
     "exception": false,
     "start_time": "2023-04-23T22:54:41.406332",
     "status": "completed"
    },
    "tags": []
   },
   "outputs": [
    {
     "data": {
      "text/html": [
       "<div>\n",
       "<style scoped>\n",
       "    .dataframe tbody tr th:only-of-type {\n",
       "        vertical-align: middle;\n",
       "    }\n",
       "\n",
       "    .dataframe tbody tr th {\n",
       "        vertical-align: top;\n",
       "    }\n",
       "\n",
       "    .dataframe thead th {\n",
       "        text-align: right;\n",
       "    }\n",
       "</style>\n",
       "<table border=\"1\" class=\"dataframe\">\n",
       "  <thead>\n",
       "    <tr style=\"text-align: right;\">\n",
       "      <th></th>\n",
       "      <th>activity_comment</th>\n",
       "      <th>activity_id</th>\n",
       "      <th>activity_properties</th>\n",
       "      <th>assay_chembl_id</th>\n",
       "      <th>assay_description</th>\n",
       "      <th>assay_type</th>\n",
       "      <th>assay_variant_accession</th>\n",
       "      <th>assay_variant_mutation</th>\n",
       "      <th>bao_endpoint</th>\n",
       "      <th>bao_format</th>\n",
       "      <th>bao_label</th>\n",
       "      <th>canonical_smiles</th>\n",
       "      <th>data_validity_comment</th>\n",
       "      <th>data_validity_description</th>\n",
       "      <th>document_chembl_id</th>\n",
       "      <th>document_journal</th>\n",
       "      <th>document_year</th>\n",
       "      <th>ligand_efficiency</th>\n",
       "      <th>molecule_chembl_id</th>\n",
       "      <th>molecule_pref_name</th>\n",
       "      <th>parent_molecule_chembl_id</th>\n",
       "      <th>pchembl_value</th>\n",
       "      <th>potential_duplicate</th>\n",
       "      <th>qudt_units</th>\n",
       "      <th>record_id</th>\n",
       "      <th>relation</th>\n",
       "      <th>src_id</th>\n",
       "      <th>standard_flag</th>\n",
       "      <th>standard_relation</th>\n",
       "      <th>standard_text_value</th>\n",
       "      <th>standard_type</th>\n",
       "      <th>standard_units</th>\n",
       "      <th>standard_upper_value</th>\n",
       "      <th>standard_value</th>\n",
       "      <th>target_chembl_id</th>\n",
       "      <th>target_organism</th>\n",
       "      <th>target_pref_name</th>\n",
       "      <th>target_tax_id</th>\n",
       "      <th>text_value</th>\n",
       "      <th>toid</th>\n",
       "      <th>type</th>\n",
       "      <th>units</th>\n",
       "      <th>uo_units</th>\n",
       "      <th>upper_value</th>\n",
       "      <th>value</th>\n",
       "    </tr>\n",
       "  </thead>\n",
       "  <tbody>\n",
       "    <tr>\n",
       "      <th>0</th>\n",
       "      <td>NaN</td>\n",
       "      <td>32233</td>\n",
       "      <td>[]</td>\n",
       "      <td>CHEMBL658541</td>\n",
       "      <td>In vitro agonist efficacy against PPAR gamma a...</td>\n",
       "      <td>F</td>\n",
       "      <td>NaN</td>\n",
       "      <td>NaN</td>\n",
       "      <td>BAO_0000188</td>\n",
       "      <td>BAO_0000019</td>\n",
       "      <td>assay format</td>\n",
       "      <td>CC(/C=C/C(F)=C(/C)c1cc(C(C)(C)C)cc(C(C)(C)C)c1...</td>\n",
       "      <td>NaN</td>\n",
       "      <td>NaN</td>\n",
       "      <td>CHEMBL1136440</td>\n",
       "      <td>Bioorg. Med. Chem. Lett.</td>\n",
       "      <td>2003</td>\n",
       "      <td>NaN</td>\n",
       "      <td>CHEMBL111217</td>\n",
       "      <td>NaN</td>\n",
       "      <td>CHEMBL111217</td>\n",
       "      <td>7.20</td>\n",
       "      <td>0</td>\n",
       "      <td>http://www.openphacts.org/units/Nanomolar</td>\n",
       "      <td>251326</td>\n",
       "      <td>=</td>\n",
       "      <td>1</td>\n",
       "      <td>1</td>\n",
       "      <td>=</td>\n",
       "      <td>NaN</td>\n",
       "      <td>EC50</td>\n",
       "      <td>nM</td>\n",
       "      <td>NaN</td>\n",
       "      <td>63.0</td>\n",
       "      <td>CHEMBL235</td>\n",
       "      <td>Homo sapiens</td>\n",
       "      <td>Peroxisome proliferator-activated receptor gamma</td>\n",
       "      <td>9606</td>\n",
       "      <td>NaN</td>\n",
       "      <td>NaN</td>\n",
       "      <td>EC50</td>\n",
       "      <td>nM</td>\n",
       "      <td>UO_0000065</td>\n",
       "      <td>NaN</td>\n",
       "      <td>0.0630</td>\n",
       "    </tr>\n",
       "    <tr>\n",
       "      <th>1</th>\n",
       "      <td>NaN</td>\n",
       "      <td>32234</td>\n",
       "      <td>[]</td>\n",
       "      <td>CHEMBL656170</td>\n",
       "      <td>In vitro agonistic activity against PPAR gamma...</td>\n",
       "      <td>F</td>\n",
       "      <td>NaN</td>\n",
       "      <td>NaN</td>\n",
       "      <td>BAO_0000188</td>\n",
       "      <td>BAO_0000019</td>\n",
       "      <td>assay format</td>\n",
       "      <td>CC(/C=C/C(F)=C(/C)c1cc(C(C)(C)C)cc(C(C)(C)C)c1...</td>\n",
       "      <td>NaN</td>\n",
       "      <td>NaN</td>\n",
       "      <td>CHEMBL1136440</td>\n",
       "      <td>Bioorg. Med. Chem. Lett.</td>\n",
       "      <td>2003</td>\n",
       "      <td>NaN</td>\n",
       "      <td>CHEMBL111217</td>\n",
       "      <td>NaN</td>\n",
       "      <td>CHEMBL111217</td>\n",
       "      <td>8.19</td>\n",
       "      <td>0</td>\n",
       "      <td>http://www.openphacts.org/units/Nanomolar</td>\n",
       "      <td>251326</td>\n",
       "      <td>=</td>\n",
       "      <td>1</td>\n",
       "      <td>1</td>\n",
       "      <td>=</td>\n",
       "      <td>NaN</td>\n",
       "      <td>EC50</td>\n",
       "      <td>nM</td>\n",
       "      <td>NaN</td>\n",
       "      <td>6.4</td>\n",
       "      <td>CHEMBL235</td>\n",
       "      <td>Homo sapiens</td>\n",
       "      <td>Peroxisome proliferator-activated receptor gamma</td>\n",
       "      <td>9606</td>\n",
       "      <td>NaN</td>\n",
       "      <td>NaN</td>\n",
       "      <td>EC50</td>\n",
       "      <td>nM</td>\n",
       "      <td>UO_0000065</td>\n",
       "      <td>NaN</td>\n",
       "      <td>0.0064</td>\n",
       "    </tr>\n",
       "    <tr>\n",
       "      <th>2</th>\n",
       "      <td>NaN</td>\n",
       "      <td>33386</td>\n",
       "      <td>[]</td>\n",
       "      <td>CHEMBL658541</td>\n",
       "      <td>In vitro agonist efficacy against PPAR gamma a...</td>\n",
       "      <td>F</td>\n",
       "      <td>NaN</td>\n",
       "      <td>NaN</td>\n",
       "      <td>BAO_0000188</td>\n",
       "      <td>BAO_0000019</td>\n",
       "      <td>assay format</td>\n",
       "      <td>CCC(C)(C)c1cc(/C(C)=C(F)\\C=C\\C(C)=C\\C(=O)O)c(O...</td>\n",
       "      <td>NaN</td>\n",
       "      <td>NaN</td>\n",
       "      <td>CHEMBL1136440</td>\n",
       "      <td>Bioorg. Med. Chem. Lett.</td>\n",
       "      <td>2003</td>\n",
       "      <td>NaN</td>\n",
       "      <td>CHEMBL130231</td>\n",
       "      <td>NaN</td>\n",
       "      <td>CHEMBL130231</td>\n",
       "      <td>7.29</td>\n",
       "      <td>0</td>\n",
       "      <td>http://www.openphacts.org/units/Nanomolar</td>\n",
       "      <td>251310</td>\n",
       "      <td>=</td>\n",
       "      <td>1</td>\n",
       "      <td>1</td>\n",
       "      <td>=</td>\n",
       "      <td>NaN</td>\n",
       "      <td>EC50</td>\n",
       "      <td>nM</td>\n",
       "      <td>NaN</td>\n",
       "      <td>51.0</td>\n",
       "      <td>CHEMBL235</td>\n",
       "      <td>Homo sapiens</td>\n",
       "      <td>Peroxisome proliferator-activated receptor gamma</td>\n",
       "      <td>9606</td>\n",
       "      <td>NaN</td>\n",
       "      <td>NaN</td>\n",
       "      <td>EC50</td>\n",
       "      <td>nM</td>\n",
       "      <td>UO_0000065</td>\n",
       "      <td>NaN</td>\n",
       "      <td>0.0510</td>\n",
       "    </tr>\n",
       "    <tr>\n",
       "      <th>3</th>\n",
       "      <td>NaN</td>\n",
       "      <td>33387</td>\n",
       "      <td>[]</td>\n",
       "      <td>CHEMBL656170</td>\n",
       "      <td>In vitro agonistic activity against PPAR gamma...</td>\n",
       "      <td>F</td>\n",
       "      <td>NaN</td>\n",
       "      <td>NaN</td>\n",
       "      <td>BAO_0000188</td>\n",
       "      <td>BAO_0000019</td>\n",
       "      <td>assay format</td>\n",
       "      <td>CCC(C)(C)c1cc(/C(C)=C(F)\\C=C\\C(C)=C\\C(=O)O)c(O...</td>\n",
       "      <td>NaN</td>\n",
       "      <td>NaN</td>\n",
       "      <td>CHEMBL1136440</td>\n",
       "      <td>Bioorg. Med. Chem. Lett.</td>\n",
       "      <td>2003</td>\n",
       "      <td>NaN</td>\n",
       "      <td>CHEMBL130231</td>\n",
       "      <td>NaN</td>\n",
       "      <td>CHEMBL130231</td>\n",
       "      <td>8.57</td>\n",
       "      <td>0</td>\n",
       "      <td>http://www.openphacts.org/units/Nanomolar</td>\n",
       "      <td>251310</td>\n",
       "      <td>=</td>\n",
       "      <td>1</td>\n",
       "      <td>1</td>\n",
       "      <td>=</td>\n",
       "      <td>NaN</td>\n",
       "      <td>EC50</td>\n",
       "      <td>nM</td>\n",
       "      <td>NaN</td>\n",
       "      <td>2.7</td>\n",
       "      <td>CHEMBL235</td>\n",
       "      <td>Homo sapiens</td>\n",
       "      <td>Peroxisome proliferator-activated receptor gamma</td>\n",
       "      <td>9606</td>\n",
       "      <td>NaN</td>\n",
       "      <td>NaN</td>\n",
       "      <td>EC50</td>\n",
       "      <td>nM</td>\n",
       "      <td>UO_0000065</td>\n",
       "      <td>NaN</td>\n",
       "      <td>0.0027</td>\n",
       "    </tr>\n",
       "    <tr>\n",
       "      <th>4</th>\n",
       "      <td>NaN</td>\n",
       "      <td>35892</td>\n",
       "      <td>[]</td>\n",
       "      <td>CHEMBL658541</td>\n",
       "      <td>In vitro agonist efficacy against PPAR gamma a...</td>\n",
       "      <td>F</td>\n",
       "      <td>NaN</td>\n",
       "      <td>NaN</td>\n",
       "      <td>BAO_0000188</td>\n",
       "      <td>BAO_0000019</td>\n",
       "      <td>assay format</td>\n",
       "      <td>C/C(=C/C=C/C(C)=C/C(=O)O)c1cc(-c2cc(F)cc(F)c2)...</td>\n",
       "      <td>NaN</td>\n",
       "      <td>NaN</td>\n",
       "      <td>CHEMBL1136440</td>\n",
       "      <td>Bioorg. Med. Chem. Lett.</td>\n",
       "      <td>2003</td>\n",
       "      <td>NaN</td>\n",
       "      <td>CHEMBL337393</td>\n",
       "      <td>NaN</td>\n",
       "      <td>CHEMBL337393</td>\n",
       "      <td>7.40</td>\n",
       "      <td>0</td>\n",
       "      <td>http://www.openphacts.org/units/Nanomolar</td>\n",
       "      <td>251312</td>\n",
       "      <td>=</td>\n",
       "      <td>1</td>\n",
       "      <td>1</td>\n",
       "      <td>=</td>\n",
       "      <td>NaN</td>\n",
       "      <td>EC50</td>\n",
       "      <td>nM</td>\n",
       "      <td>NaN</td>\n",
       "      <td>40.0</td>\n",
       "      <td>CHEMBL235</td>\n",
       "      <td>Homo sapiens</td>\n",
       "      <td>Peroxisome proliferator-activated receptor gamma</td>\n",
       "      <td>9606</td>\n",
       "      <td>NaN</td>\n",
       "      <td>NaN</td>\n",
       "      <td>EC50</td>\n",
       "      <td>nM</td>\n",
       "      <td>UO_0000065</td>\n",
       "      <td>NaN</td>\n",
       "      <td>0.0400</td>\n",
       "    </tr>\n",
       "  </tbody>\n",
       "</table>\n",
       "</div>"
      ],
      "text/plain": [
       "   activity_comment  activity_id activity_properties assay_chembl_id  \\\n",
       "0               NaN        32233                  []    CHEMBL658541   \n",
       "1               NaN        32234                  []    CHEMBL656170   \n",
       "2               NaN        33386                  []    CHEMBL658541   \n",
       "3               NaN        33387                  []    CHEMBL656170   \n",
       "4               NaN        35892                  []    CHEMBL658541   \n",
       "\n",
       "                                   assay_description assay_type  \\\n",
       "0  In vitro agonist efficacy against PPAR gamma a...          F   \n",
       "1  In vitro agonistic activity against PPAR gamma...          F   \n",
       "2  In vitro agonist efficacy against PPAR gamma a...          F   \n",
       "3  In vitro agonistic activity against PPAR gamma...          F   \n",
       "4  In vitro agonist efficacy against PPAR gamma a...          F   \n",
       "\n",
       "   assay_variant_accession  assay_variant_mutation bao_endpoint   bao_format  \\\n",
       "0                      NaN                     NaN  BAO_0000188  BAO_0000019   \n",
       "1                      NaN                     NaN  BAO_0000188  BAO_0000019   \n",
       "2                      NaN                     NaN  BAO_0000188  BAO_0000019   \n",
       "3                      NaN                     NaN  BAO_0000188  BAO_0000019   \n",
       "4                      NaN                     NaN  BAO_0000188  BAO_0000019   \n",
       "\n",
       "      bao_label                                   canonical_smiles  \\\n",
       "0  assay format  CC(/C=C/C(F)=C(/C)c1cc(C(C)(C)C)cc(C(C)(C)C)c1...   \n",
       "1  assay format  CC(/C=C/C(F)=C(/C)c1cc(C(C)(C)C)cc(C(C)(C)C)c1...   \n",
       "2  assay format  CCC(C)(C)c1cc(/C(C)=C(F)\\C=C\\C(C)=C\\C(=O)O)c(O...   \n",
       "3  assay format  CCC(C)(C)c1cc(/C(C)=C(F)\\C=C\\C(C)=C\\C(=O)O)c(O...   \n",
       "4  assay format  C/C(=C/C=C/C(C)=C/C(=O)O)c1cc(-c2cc(F)cc(F)c2)...   \n",
       "\n",
       "  data_validity_comment data_validity_description document_chembl_id  \\\n",
       "0                   NaN                       NaN      CHEMBL1136440   \n",
       "1                   NaN                       NaN      CHEMBL1136440   \n",
       "2                   NaN                       NaN      CHEMBL1136440   \n",
       "3                   NaN                       NaN      CHEMBL1136440   \n",
       "4                   NaN                       NaN      CHEMBL1136440   \n",
       "\n",
       "           document_journal  document_year ligand_efficiency  \\\n",
       "0  Bioorg. Med. Chem. Lett.           2003               NaN   \n",
       "1  Bioorg. Med. Chem. Lett.           2003               NaN   \n",
       "2  Bioorg. Med. Chem. Lett.           2003               NaN   \n",
       "3  Bioorg. Med. Chem. Lett.           2003               NaN   \n",
       "4  Bioorg. Med. Chem. Lett.           2003               NaN   \n",
       "\n",
       "  molecule_chembl_id molecule_pref_name parent_molecule_chembl_id  \\\n",
       "0       CHEMBL111217                NaN              CHEMBL111217   \n",
       "1       CHEMBL111217                NaN              CHEMBL111217   \n",
       "2       CHEMBL130231                NaN              CHEMBL130231   \n",
       "3       CHEMBL130231                NaN              CHEMBL130231   \n",
       "4       CHEMBL337393                NaN              CHEMBL337393   \n",
       "\n",
       "   pchembl_value  potential_duplicate  \\\n",
       "0           7.20                    0   \n",
       "1           8.19                    0   \n",
       "2           7.29                    0   \n",
       "3           8.57                    0   \n",
       "4           7.40                    0   \n",
       "\n",
       "                                  qudt_units  record_id relation  src_id  \\\n",
       "0  http://www.openphacts.org/units/Nanomolar     251326        =       1   \n",
       "1  http://www.openphacts.org/units/Nanomolar     251326        =       1   \n",
       "2  http://www.openphacts.org/units/Nanomolar     251310        =       1   \n",
       "3  http://www.openphacts.org/units/Nanomolar     251310        =       1   \n",
       "4  http://www.openphacts.org/units/Nanomolar     251312        =       1   \n",
       "\n",
       "   standard_flag standard_relation  standard_text_value standard_type  \\\n",
       "0              1                 =                  NaN          EC50   \n",
       "1              1                 =                  NaN          EC50   \n",
       "2              1                 =                  NaN          EC50   \n",
       "3              1                 =                  NaN          EC50   \n",
       "4              1                 =                  NaN          EC50   \n",
       "\n",
       "  standard_units  standard_upper_value  standard_value target_chembl_id  \\\n",
       "0             nM                   NaN            63.0        CHEMBL235   \n",
       "1             nM                   NaN             6.4        CHEMBL235   \n",
       "2             nM                   NaN            51.0        CHEMBL235   \n",
       "3             nM                   NaN             2.7        CHEMBL235   \n",
       "4             nM                   NaN            40.0        CHEMBL235   \n",
       "\n",
       "  target_organism                                  target_pref_name  \\\n",
       "0    Homo sapiens  Peroxisome proliferator-activated receptor gamma   \n",
       "1    Homo sapiens  Peroxisome proliferator-activated receptor gamma   \n",
       "2    Homo sapiens  Peroxisome proliferator-activated receptor gamma   \n",
       "3    Homo sapiens  Peroxisome proliferator-activated receptor gamma   \n",
       "4    Homo sapiens  Peroxisome proliferator-activated receptor gamma   \n",
       "\n",
       "   target_tax_id  text_value  toid  type units    uo_units  upper_value  \\\n",
       "0           9606         NaN   NaN  EC50    nM  UO_0000065          NaN   \n",
       "1           9606         NaN   NaN  EC50    nM  UO_0000065          NaN   \n",
       "2           9606         NaN   NaN  EC50    nM  UO_0000065          NaN   \n",
       "3           9606         NaN   NaN  EC50    nM  UO_0000065          NaN   \n",
       "4           9606         NaN   NaN  EC50    nM  UO_0000065          NaN   \n",
       "\n",
       "    value  \n",
       "0  0.0630  \n",
       "1  0.0064  \n",
       "2  0.0510  \n",
       "3  0.0027  \n",
       "4  0.0400  "
      ]
     },
     "execution_count": 7,
     "metadata": {},
     "output_type": "execute_result"
    }
   ],
   "source": [
    "biomiss.head()"
   ]
  },
  {
   "cell_type": "code",
   "execution_count": 8,
   "id": "dff97459",
   "metadata": {
    "execution": {
     "iopub.execute_input": "2023-04-23T22:54:41.508370Z",
     "iopub.status.busy": "2023-04-23T22:54:41.507639Z",
     "iopub.status.idle": "2023-04-23T22:54:41.526060Z",
     "shell.execute_reply": "2023-04-23T22:54:41.524644Z"
    },
    "papermill": {
     "duration": 0.039396,
     "end_time": "2023-04-23T22:54:41.529267",
     "exception": false,
     "start_time": "2023-04-23T22:54:41.489871",
     "status": "completed"
    },
    "tags": []
   },
   "outputs": [
    {
     "name": "stdout",
     "output_type": "stream",
     "text": [
      "<class 'pandas.core.frame.DataFrame'>\n",
      "RangeIndex: 1445 entries, 0 to 1444\n",
      "Data columns (total 45 columns):\n",
      " #   Column                     Non-Null Count  Dtype  \n",
      "---  ------                     --------------  -----  \n",
      " 0   activity_comment           50 non-null     float64\n",
      " 1   activity_id                1445 non-null   int64  \n",
      " 2   activity_properties        1445 non-null   object \n",
      " 3   assay_chembl_id            1445 non-null   object \n",
      " 4   assay_description          1445 non-null   object \n",
      " 5   assay_type                 1445 non-null   object \n",
      " 6   assay_variant_accession    0 non-null      float64\n",
      " 7   assay_variant_mutation     0 non-null      float64\n",
      " 8   bao_endpoint               1445 non-null   object \n",
      " 9   bao_format                 1445 non-null   object \n",
      " 10  bao_label                  1445 non-null   object \n",
      " 11  canonical_smiles           1445 non-null   object \n",
      " 12  data_validity_comment      4 non-null      object \n",
      " 13  data_validity_description  4 non-null      object \n",
      " 14  document_chembl_id         1445 non-null   object \n",
      " 15  document_journal           1395 non-null   object \n",
      " 16  document_year              1445 non-null   int64  \n",
      " 17  ligand_efficiency          697 non-null    object \n",
      " 18  molecule_chembl_id         1445 non-null   object \n",
      " 19  molecule_pref_name         109 non-null    object \n",
      " 20  parent_molecule_chembl_id  1445 non-null   object \n",
      " 21  pchembl_value              1273 non-null   float64\n",
      " 22  potential_duplicate        1445 non-null   int64  \n",
      " 23  qudt_units                 1384 non-null   object \n",
      " 24  record_id                  1445 non-null   int64  \n",
      " 25  relation                   1445 non-null   object \n",
      " 26  src_id                     1445 non-null   int64  \n",
      " 27  standard_flag              1445 non-null   int64  \n",
      " 28  standard_relation          1445 non-null   object \n",
      " 29  standard_text_value        0 non-null      float64\n",
      " 30  standard_type              1445 non-null   object \n",
      " 31  standard_units             1445 non-null   object \n",
      " 32  standard_upper_value       0 non-null      float64\n",
      " 33  standard_value             1445 non-null   float64\n",
      " 34  target_chembl_id           1445 non-null   object \n",
      " 35  target_organism            1445 non-null   object \n",
      " 36  target_pref_name           1445 non-null   object \n",
      " 37  target_tax_id              1445 non-null   int64  \n",
      " 38  text_value                 0 non-null      float64\n",
      " 39  toid                       0 non-null      float64\n",
      " 40  type                       1445 non-null   object \n",
      " 41  units                      1445 non-null   object \n",
      " 42  uo_units                   1384 non-null   object \n",
      " 43  upper_value                4 non-null      float64\n",
      " 44  value                      1445 non-null   float64\n",
      "dtypes: float64(11), int64(7), object(27)\n",
      "memory usage: 508.1+ KB\n"
     ]
    }
   ],
   "source": [
    "biomiss.info()"
   ]
  },
  {
   "cell_type": "code",
   "execution_count": 9,
   "id": "a75ee861",
   "metadata": {
    "execution": {
     "iopub.execute_input": "2023-04-23T22:54:41.560773Z",
     "iopub.status.busy": "2023-04-23T22:54:41.559596Z",
     "iopub.status.idle": "2023-04-23T22:54:41.568006Z",
     "shell.execute_reply": "2023-04-23T22:54:41.566984Z"
    },
    "papermill": {
     "duration": 0.024381,
     "end_time": "2023-04-23T22:54:41.570533",
     "exception": false,
     "start_time": "2023-04-23T22:54:41.546152",
     "status": "completed"
    },
    "tags": []
   },
   "outputs": [
    {
     "data": {
      "text/plain": [
       "1445"
      ]
     },
     "execution_count": 9,
     "metadata": {},
     "output_type": "execute_result"
    }
   ],
   "source": [
    "len(biodata)"
   ]
  },
  {
   "cell_type": "code",
   "execution_count": 10,
   "id": "c72ba994",
   "metadata": {
    "execution": {
     "iopub.execute_input": "2023-04-23T22:54:41.595973Z",
     "iopub.status.busy": "2023-04-23T22:54:41.595126Z",
     "iopub.status.idle": "2023-04-23T22:54:41.602504Z",
     "shell.execute_reply": "2023-04-23T22:54:41.601534Z"
    },
    "papermill": {
     "duration": 0.023078,
     "end_time": "2023-04-23T22:54:41.605163",
     "exception": false,
     "start_time": "2023-04-23T22:54:41.582085",
     "status": "completed"
    },
    "tags": []
   },
   "outputs": [
    {
     "data": {
      "text/plain": [
       "1445"
      ]
     },
     "execution_count": 10,
     "metadata": {},
     "output_type": "execute_result"
    }
   ],
   "source": [
    "len(biomiss)"
   ]
  },
  {
   "cell_type": "code",
   "execution_count": 11,
   "id": "620b73fc",
   "metadata": {
    "execution": {
     "iopub.execute_input": "2023-04-23T22:54:41.637288Z",
     "iopub.status.busy": "2023-04-23T22:54:41.636385Z",
     "iopub.status.idle": "2023-04-23T22:54:41.651092Z",
     "shell.execute_reply": "2023-04-23T22:54:41.649660Z"
    },
    "papermill": {
     "duration": 0.036857,
     "end_time": "2023-04-23T22:54:41.653767",
     "exception": false,
     "start_time": "2023-04-23T22:54:41.616910",
     "status": "completed"
    },
    "tags": []
   },
   "outputs": [
    {
     "data": {
      "text/plain": [
       "activity_comment             1395\n",
       "activity_id                     0\n",
       "activity_properties             0\n",
       "assay_chembl_id                 0\n",
       "assay_description               0\n",
       "assay_type                      0\n",
       "assay_variant_accession      1445\n",
       "assay_variant_mutation       1445\n",
       "bao_endpoint                    0\n",
       "bao_format                      0\n",
       "bao_label                       0\n",
       "canonical_smiles                0\n",
       "data_validity_comment        1441\n",
       "data_validity_description    1441\n",
       "document_chembl_id              0\n",
       "document_journal               50\n",
       "document_year                   0\n",
       "ligand_efficiency             748\n",
       "molecule_chembl_id              0\n",
       "molecule_pref_name           1336\n",
       "parent_molecule_chembl_id       0\n",
       "pchembl_value                 172\n",
       "potential_duplicate             0\n",
       "qudt_units                     61\n",
       "record_id                       0\n",
       "relation                        0\n",
       "src_id                          0\n",
       "standard_flag                   0\n",
       "standard_relation               0\n",
       "standard_text_value          1445\n",
       "standard_type                   0\n",
       "standard_units                  0\n",
       "standard_upper_value         1445\n",
       "standard_value                  0\n",
       "target_chembl_id                0\n",
       "target_organism                 0\n",
       "target_pref_name                0\n",
       "target_tax_id                   0\n",
       "text_value                   1445\n",
       "toid                         1445\n",
       "type                            0\n",
       "units                           0\n",
       "uo_units                       61\n",
       "upper_value                  1441\n",
       "value                           0\n",
       "dtype: int64"
      ]
     },
     "execution_count": 11,
     "metadata": {},
     "output_type": "execute_result"
    }
   ],
   "source": [
    "biodata.isna().sum()"
   ]
  },
  {
   "cell_type": "code",
   "execution_count": 12,
   "id": "ffb78e68",
   "metadata": {
    "execution": {
     "iopub.execute_input": "2023-04-23T22:54:41.680223Z",
     "iopub.status.busy": "2023-04-23T22:54:41.678979Z",
     "iopub.status.idle": "2023-04-23T22:54:41.695910Z",
     "shell.execute_reply": "2023-04-23T22:54:41.694511Z"
    },
    "papermill": {
     "duration": 0.032585,
     "end_time": "2023-04-23T22:54:41.698306",
     "exception": false,
     "start_time": "2023-04-23T22:54:41.665721",
     "status": "completed"
    },
    "tags": []
   },
   "outputs": [
    {
     "data": {
      "text/plain": [
       "activity_comment             1395\n",
       "activity_id                     0\n",
       "activity_properties             0\n",
       "assay_chembl_id                 0\n",
       "assay_description               0\n",
       "assay_type                      0\n",
       "assay_variant_accession      1445\n",
       "assay_variant_mutation       1445\n",
       "bao_endpoint                    0\n",
       "bao_format                      0\n",
       "bao_label                       0\n",
       "canonical_smiles                0\n",
       "data_validity_comment        1441\n",
       "data_validity_description    1441\n",
       "document_chembl_id              0\n",
       "document_journal               50\n",
       "document_year                   0\n",
       "ligand_efficiency             748\n",
       "molecule_chembl_id              0\n",
       "molecule_pref_name           1336\n",
       "parent_molecule_chembl_id       0\n",
       "pchembl_value                 172\n",
       "potential_duplicate             0\n",
       "qudt_units                     61\n",
       "record_id                       0\n",
       "relation                        0\n",
       "src_id                          0\n",
       "standard_flag                   0\n",
       "standard_relation               0\n",
       "standard_text_value          1445\n",
       "standard_type                   0\n",
       "standard_units                  0\n",
       "standard_upper_value         1445\n",
       "standard_value                  0\n",
       "target_chembl_id                0\n",
       "target_organism                 0\n",
       "target_pref_name                0\n",
       "target_tax_id                   0\n",
       "text_value                   1445\n",
       "toid                         1445\n",
       "type                            0\n",
       "units                           0\n",
       "uo_units                       61\n",
       "upper_value                  1441\n",
       "value                           0\n",
       "dtype: int64"
      ]
     },
     "execution_count": 12,
     "metadata": {},
     "output_type": "execute_result"
    }
   ],
   "source": [
    "biomiss.isna().sum()"
   ]
  },
  {
   "cell_type": "markdown",
   "id": "786317f5",
   "metadata": {
    "papermill": {
     "duration": 0.011436,
     "end_time": "2023-04-23T22:54:41.721524",
     "exception": false,
     "start_time": "2023-04-23T22:54:41.710088",
     "status": "completed"
    },
    "tags": []
   },
   "source": [
    "**Biodata og biomiss er ser helt like ut, så velger bare biodata**"
   ]
  },
  {
   "cell_type": "markdown",
   "id": "38cfbe3e",
   "metadata": {
    "papermill": {
     "duration": 0.011517,
     "end_time": "2023-04-23T22:54:41.744830",
     "exception": false,
     "start_time": "2023-04-23T22:54:41.733313",
     "status": "completed"
    },
    "tags": []
   },
   "source": [
    "# prepare data\n"
   ]
  },
  {
   "cell_type": "markdown",
   "id": "34260cf8",
   "metadata": {
    "papermill": {
     "duration": 0.011903,
     "end_time": "2023-04-23T22:54:41.768620",
     "exception": false,
     "start_time": "2023-04-23T22:54:41.756717",
     "status": "completed"
    },
    "tags": []
   },
   "source": [
    "**dropper dårlig data**"
   ]
  },
  {
   "cell_type": "code",
   "execution_count": 13,
   "id": "63d800cd",
   "metadata": {
    "execution": {
     "iopub.execute_input": "2023-04-23T22:54:41.801844Z",
     "iopub.status.busy": "2023-04-23T22:54:41.800856Z",
     "iopub.status.idle": "2023-04-23T22:54:41.811115Z",
     "shell.execute_reply": "2023-04-23T22:54:41.809602Z"
    },
    "papermill": {
     "duration": 0.032397,
     "end_time": "2023-04-23T22:54:41.814508",
     "exception": false,
     "start_time": "2023-04-23T22:54:41.782111",
     "status": "completed"
    },
    "tags": []
   },
   "outputs": [],
   "source": [
    "#Jeg dropper featurså jeg tror er urelevant. \n",
    "biodata.drop([\"activity_comment\", \"data_validity_comment\", \"data_validity_description\", \"document_journal\", \"document_year\", \"text_value\", \"activity_id\", \"assay_chembl_id\", \"bao_label\", \"document_chembl_id\", \"molecule_chembl_id\",\n",
    "             \"parent_molecule_chembl_id\", \"record_id\", \"standard_value\"],axis=1, inplace=True)\n"
   ]
  },
  {
   "cell_type": "code",
   "execution_count": 14,
   "id": "c2bbc2c9",
   "metadata": {
    "execution": {
     "iopub.execute_input": "2023-04-23T22:54:41.853319Z",
     "iopub.status.busy": "2023-04-23T22:54:41.852549Z",
     "iopub.status.idle": "2023-04-23T22:54:41.859345Z",
     "shell.execute_reply": "2023-04-23T22:54:41.858534Z"
    },
    "papermill": {
     "duration": 0.029298,
     "end_time": "2023-04-23T22:54:41.862048",
     "exception": false,
     "start_time": "2023-04-23T22:54:41.832750",
     "status": "completed"
    },
    "tags": []
   },
   "outputs": [],
   "source": [
    "#dropper de med for mange manglende verdier.\n",
    "biodata.drop([\"assay_variant_accession\", \"assay_variant_mutation\", \"molecule_pref_name\",\"standard_text_value\", \"standard_upper_value\", \"toid\", \"upper_value\", \"ligand_efficiency\",],axis=1, inplace=True)\n"
   ]
  },
  {
   "cell_type": "code",
   "execution_count": 15,
   "id": "d6fa1e37",
   "metadata": {
    "execution": {
     "iopub.execute_input": "2023-04-23T22:54:41.893483Z",
     "iopub.status.busy": "2023-04-23T22:54:41.892532Z",
     "iopub.status.idle": "2023-04-23T22:54:41.902593Z",
     "shell.execute_reply": "2023-04-23T22:54:41.901524Z"
    },
    "papermill": {
     "duration": 0.02583,
     "end_time": "2023-04-23T22:54:41.905027",
     "exception": false,
     "start_time": "2023-04-23T22:54:41.879197",
     "status": "completed"
    },
    "tags": []
   },
   "outputs": [],
   "source": [
    "#dropper de kolonnene som har manglende verdier.\n",
    "biodata = biodata.dropna(subset=[\"pchembl_value\", \"qudt_units\", \"uo_units\"], axis=0)"
   ]
  },
  {
   "cell_type": "code",
   "execution_count": 16,
   "id": "671df173",
   "metadata": {
    "execution": {
     "iopub.execute_input": "2023-04-23T22:54:41.931337Z",
     "iopub.status.busy": "2023-04-23T22:54:41.930344Z",
     "iopub.status.idle": "2023-04-23T22:54:41.948042Z",
     "shell.execute_reply": "2023-04-23T22:54:41.946495Z"
    },
    "papermill": {
     "duration": 0.033531,
     "end_time": "2023-04-23T22:54:41.950370",
     "exception": false,
     "start_time": "2023-04-23T22:54:41.916839",
     "status": "completed"
    },
    "tags": []
   },
   "outputs": [
    {
     "name": "stdout",
     "output_type": "stream",
     "text": [
      "['activity_properties', 'bao_endpoint', 'qudt_units', 'relation', 'standard_flag', 'standard_relation', 'standard_type', 'standard_units', 'target_chembl_id', 'target_organism', 'target_pref_name', 'target_tax_id', 'type', 'units', 'uo_units']\n"
     ]
    }
   ],
   "source": [
    "#sjekker om radene har de samme verdiene, fordi da er det ikke vits i å ha de med\n",
    "unik = biodata.nunique()\n",
    "unikkol = unik[unik == 1].index\n",
    "print(unikkol.tolist())"
   ]
  },
  {
   "cell_type": "code",
   "execution_count": 17,
   "id": "2ba685c3",
   "metadata": {
    "execution": {
     "iopub.execute_input": "2023-04-23T22:54:41.976892Z",
     "iopub.status.busy": "2023-04-23T22:54:41.975904Z",
     "iopub.status.idle": "2023-04-23T22:54:41.984209Z",
     "shell.execute_reply": "2023-04-23T22:54:41.983018Z"
    },
    "papermill": {
     "duration": 0.024809,
     "end_time": "2023-04-23T22:54:41.986990",
     "exception": false,
     "start_time": "2023-04-23T22:54:41.962181",
     "status": "completed"
    },
    "tags": []
   },
   "outputs": [],
   "source": [
    "#dropper de har alle radene som er like \n",
    "biodata.drop(['activity_properties', 'bao_endpoint', 'qudt_units', 'standard_relation', 'standard_type', 'standard_units', 'relation', 'standard_flag', \n",
    "              'target_chembl_id', 'target_organism', 'target_pref_name', 'target_tax_id', 'type', 'units', 'uo_units'], axis=1, inplace=True)"
   ]
  },
  {
   "cell_type": "markdown",
   "id": "cc70bc67",
   "metadata": {
    "papermill": {
     "duration": 0.012368,
     "end_time": "2023-04-23T22:54:42.011364",
     "exception": false,
     "start_time": "2023-04-23T22:54:41.998996",
     "status": "completed"
    },
    "tags": []
   },
   "source": [
    "**få numerisk data**"
   ]
  },
  {
   "cell_type": "code",
   "execution_count": 18,
   "id": "ed0a306e",
   "metadata": {
    "execution": {
     "iopub.execute_input": "2023-04-23T22:54:42.037377Z",
     "iopub.status.busy": "2023-04-23T22:54:42.036239Z",
     "iopub.status.idle": "2023-04-23T22:54:42.045757Z",
     "shell.execute_reply": "2023-04-23T22:54:42.044885Z"
    },
    "papermill": {
     "duration": 0.024999,
     "end_time": "2023-04-23T22:54:42.048174",
     "exception": false,
     "start_time": "2023-04-23T22:54:42.023175",
     "status": "completed"
    },
    "tags": []
   },
   "outputs": [],
   "source": [
    "#assay_type og bao_format\n",
    "oe = OneHotEncoder()\n",
    "assay_type_bao_format_encoded = oe.fit_transform(biodata[['assay_type', 'bao_format']]).toarray()\n",
    "oekol = oe.get_feature_names_out(['assay_type', 'bao_format'])"
   ]
  },
  {
   "cell_type": "code",
   "execution_count": 19,
   "id": "b066e61b",
   "metadata": {
    "execution": {
     "iopub.execute_input": "2023-04-23T22:54:42.074525Z",
     "iopub.status.busy": "2023-04-23T22:54:42.073249Z",
     "iopub.status.idle": "2023-04-23T22:54:42.080326Z",
     "shell.execute_reply": "2023-04-23T22:54:42.079086Z"
    },
    "papermill": {
     "duration": 0.023259,
     "end_time": "2023-04-23T22:54:42.083330",
     "exception": false,
     "start_time": "2023-04-23T22:54:42.060071",
     "status": "completed"
    },
    "tags": []
   },
   "outputs": [],
   "source": [
    "le = LabelEncoder()\n",
    "src_id_encoded = le.fit_transform(biodata['src_id'])"
   ]
  },
  {
   "cell_type": "code",
   "execution_count": 20,
   "id": "5570e52f",
   "metadata": {
    "execution": {
     "iopub.execute_input": "2023-04-23T22:54:42.109883Z",
     "iopub.status.busy": "2023-04-23T22:54:42.109332Z",
     "iopub.status.idle": "2023-04-23T22:54:43.992192Z",
     "shell.execute_reply": "2023-04-23T22:54:43.990999Z"
    },
    "papermill": {
     "duration": 1.899607,
     "end_time": "2023-04-23T22:54:43.995152",
     "exception": false,
     "start_time": "2023-04-23T22:54:42.095545",
     "status": "completed"
    },
    "tags": []
   },
   "outputs": [],
   "source": [
    "#molekylsk struktur til numerisk\n",
    "def smiles_to_morgan(smiles, n_bits=1024):\n",
    "    mol = Chem.MolFromSmiles(smiles)\n",
    "    fingerprint = dc.feat.CircularFingerprint(radius=2, size=n_bits).featurize([mol])[0]\n",
    "    return fingerprint\n",
    "\n",
    "morgan_fps = biodata['canonical_smiles'].apply(smiles_to_morgan)"
   ]
  },
  {
   "cell_type": "code",
   "execution_count": 21,
   "id": "127b2ac6",
   "metadata": {
    "execution": {
     "iopub.execute_input": "2023-04-23T22:54:44.021064Z",
     "iopub.status.busy": "2023-04-23T22:54:44.020615Z",
     "iopub.status.idle": "2023-04-23T22:54:44.550844Z",
     "shell.execute_reply": "2023-04-23T22:54:44.549618Z"
    },
    "papermill": {
     "duration": 0.54649,
     "end_time": "2023-04-23T22:54:44.553623",
     "exception": false,
     "start_time": "2023-04-23T22:54:44.007133",
     "status": "completed"
    },
    "tags": []
   },
   "outputs": [],
   "source": [
    "#slå ilag prepared data\n",
    "preprocessed_data = pd.concat([pd.DataFrame(assay_type_bao_format_encoded, columns=oekol),\n",
    "                                biodata[['pchembl_value', 'potential_duplicate', 'value']],\n",
    "                                pd.DataFrame(src_id_encoded, columns=['src_id']),\n",
    "                                pd.DataFrame(morgan_fps.tolist())], axis=1)"
   ]
  },
  {
   "cell_type": "code",
   "execution_count": 22,
   "id": "65b3918a",
   "metadata": {
    "execution": {
     "iopub.execute_input": "2023-04-23T22:54:44.580064Z",
     "iopub.status.busy": "2023-04-23T22:54:44.579264Z",
     "iopub.status.idle": "2023-04-23T22:54:44.606121Z",
     "shell.execute_reply": "2023-04-23T22:54:44.605027Z"
    },
    "papermill": {
     "duration": 0.043381,
     "end_time": "2023-04-23T22:54:44.609130",
     "exception": false,
     "start_time": "2023-04-23T22:54:44.565749",
     "status": "completed"
    },
    "tags": []
   },
   "outputs": [],
   "source": [
    "#dropper NaN verdier\n",
    "preprocessed_data = preprocessed_data.dropna()"
   ]
  },
  {
   "cell_type": "markdown",
   "id": "c7afdd5a",
   "metadata": {
    "papermill": {
     "duration": 0.012189,
     "end_time": "2023-04-23T22:54:44.633556",
     "exception": false,
     "start_time": "2023-04-23T22:54:44.621367",
     "status": "completed"
    },
    "tags": []
   },
   "source": [
    "# modell"
   ]
  },
  {
   "cell_type": "code",
   "execution_count": 23,
   "id": "c940435a",
   "metadata": {
    "execution": {
     "iopub.execute_input": "2023-04-23T22:54:44.659796Z",
     "iopub.status.busy": "2023-04-23T22:54:44.659320Z",
     "iopub.status.idle": "2023-04-23T22:54:44.671589Z",
     "shell.execute_reply": "2023-04-23T22:54:44.670003Z"
    },
    "papermill": {
     "duration": 0.028978,
     "end_time": "2023-04-23T22:54:44.674561",
     "exception": false,
     "start_time": "2023-04-23T22:54:44.645583",
     "status": "completed"
    },
    "tags": []
   },
   "outputs": [],
   "source": [
    "X = preprocessed_data.drop(columns=['pchembl_value'])\n",
    "y = preprocessed_data['pchembl_value']"
   ]
  },
  {
   "cell_type": "code",
   "execution_count": 24,
   "id": "e95ff2f6",
   "metadata": {
    "execution": {
     "iopub.execute_input": "2023-04-23T22:54:44.700829Z",
     "iopub.status.busy": "2023-04-23T22:54:44.699876Z",
     "iopub.status.idle": "2023-04-23T22:54:44.713644Z",
     "shell.execute_reply": "2023-04-23T22:54:44.712729Z"
    },
    "papermill": {
     "duration": 0.029446,
     "end_time": "2023-04-23T22:54:44.715875",
     "exception": false,
     "start_time": "2023-04-23T22:54:44.686429",
     "status": "completed"
    },
    "tags": []
   },
   "outputs": [],
   "source": [
    "X_train, X_test, y_train, y_test = train_test_split(X, y, test_size=0.2, random_state=42)"
   ]
  },
  {
   "cell_type": "code",
   "execution_count": 25,
   "id": "7a1088e9",
   "metadata": {
    "execution": {
     "iopub.execute_input": "2023-04-23T22:54:44.741876Z",
     "iopub.status.busy": "2023-04-23T22:54:44.741347Z",
     "iopub.status.idle": "2023-04-23T22:54:44.799486Z",
     "shell.execute_reply": "2023-04-23T22:54:44.798193Z"
    },
    "papermill": {
     "duration": 0.076871,
     "end_time": "2023-04-23T22:54:44.804674",
     "exception": false,
     "start_time": "2023-04-23T22:54:44.727803",
     "status": "completed"
    },
    "tags": []
   },
   "outputs": [
    {
     "name": "stderr",
     "output_type": "stream",
     "text": [
      "/opt/conda/lib/python3.7/site-packages/sklearn/utils/validation.py:1692: FutureWarning: Feature names only support names that are all strings. Got feature names with dtypes: ['int', 'str']. An error will be raised in 1.2.\n",
      "  FutureWarning,\n",
      "/opt/conda/lib/python3.7/site-packages/sklearn/feature_selection/_univariate_selection.py:289: RuntimeWarning: divide by zero encountered in true_divide\n",
      "  correlation_coefficient /= X_norms\n",
      "/opt/conda/lib/python3.7/site-packages/sklearn/feature_selection/_univariate_selection.py:289: RuntimeWarning: invalid value encountered in true_divide\n",
      "  correlation_coefficient /= X_norms\n",
      "/opt/conda/lib/python3.7/site-packages/sklearn/feature_selection/_univariate_selection.py:358: RuntimeWarning: invalid value encountered in true_divide\n",
      "  f_statistic = corr_coef_squared / (1 - corr_coef_squared) * deg_of_freedom\n",
      "/opt/conda/lib/python3.7/site-packages/sklearn/utils/validation.py:1692: FutureWarning: Feature names only support names that are all strings. Got feature names with dtypes: ['int', 'str']. An error will be raised in 1.2.\n",
      "  FutureWarning,\n"
     ]
    }
   ],
   "source": [
    "#prøver å priorotere de \"viktigste featurså\"\n",
    "selector = SelectKBest(score_func=f_regression, k=30)  # Choose the best 30 features\n",
    "Z = selector.fit_transform(X, y)\n",
    "\n",
    "X_train, X_test, y_train, y_test = train_test_split(Z, y, test_size=0.2, random_state=42)\n"
   ]
  },
  {
   "cell_type": "code",
   "execution_count": 26,
   "id": "d38de369",
   "metadata": {
    "execution": {
     "iopub.execute_input": "2023-04-23T22:54:44.874047Z",
     "iopub.status.busy": "2023-04-23T22:54:44.873265Z",
     "iopub.status.idle": "2023-04-23T22:54:45.198192Z",
     "shell.execute_reply": "2023-04-23T22:54:45.196845Z"
    },
    "papermill": {
     "duration": 0.364516,
     "end_time": "2023-04-23T22:54:45.201159",
     "exception": false,
     "start_time": "2023-04-23T22:54:44.836643",
     "status": "completed"
    },
    "tags": []
   },
   "outputs": [
    {
     "data": {
      "text/plain": [
       "RandomForestRegressor(random_state=42)"
      ]
     },
     "execution_count": 26,
     "metadata": {},
     "output_type": "execute_result"
    }
   ],
   "source": [
    "#antar rfr er best\n",
    "model = RandomForestRegressor(n_estimators=100, random_state=42)\n",
    "model.fit(X_train, y_train)"
   ]
  },
  {
   "cell_type": "code",
   "execution_count": 27,
   "id": "716d0e2c",
   "metadata": {
    "execution": {
     "iopub.execute_input": "2023-04-23T22:54:45.228488Z",
     "iopub.status.busy": "2023-04-23T22:54:45.227696Z",
     "iopub.status.idle": "2023-04-23T22:54:45.232818Z",
     "shell.execute_reply": "2023-04-23T22:54:45.231989Z"
    },
    "papermill": {
     "duration": 0.021623,
     "end_time": "2023-04-23T22:54:45.235024",
     "exception": false,
     "start_time": "2023-04-23T22:54:45.213401",
     "status": "completed"
    },
    "tags": []
   },
   "outputs": [],
   "source": [
    "#modellen overtilpasser så prøver kryssvalidering\n",
    "#r2_scores = cross_val_score(model, X, y, cv=5, scoring='r2')\n",
    "#print(f\"Mean R2-score: {np.mean(r2_scores):.2f}\")\n",
    "#print(f\"R2-score standard deviation: {np.std(r2_scores):.2f}\")\n",
    "#....men det ser ikke ut til å gjøre det bedre."
   ]
  },
  {
   "cell_type": "code",
   "execution_count": 28,
   "id": "0cde7e5c",
   "metadata": {
    "execution": {
     "iopub.execute_input": "2023-04-23T22:54:45.262045Z",
     "iopub.status.busy": "2023-04-23T22:54:45.261339Z",
     "iopub.status.idle": "2023-04-23T22:54:45.266944Z",
     "shell.execute_reply": "2023-04-23T22:54:45.265661Z"
    },
    "papermill": {
     "duration": 0.022273,
     "end_time": "2023-04-23T22:54:45.269294",
     "exception": false,
     "start_time": "2023-04-23T22:54:45.247021",
     "status": "completed"
    },
    "tags": []
   },
   "outputs": [],
   "source": [
    "#prøver å tune hyperparameter\n",
    "#param_grid = {\n",
    "#    'n_estimators': [50, 100, 150, 200],\n",
    "#    'max_depth': [None, 10, 20, 30],\n",
    "#    'min_samples_split': [2, 5, 10],\n",
    "#    'min_samples_leaf': [1, 2, 4]\n",
    "#}\n",
    "\n",
    "#model = RandomForestRegressor(random_state=42)\n",
    "#grid_search = GridSearchCV(estimator=model, param_grid=param_grid, cv=5, scoring='r2', n_jobs=-1)\n",
    "#grid_search.fit(X, y)\n",
    "\n",
    "#print(f\"Best hyperparameters: {grid_search.best_params_}\")\n",
    "#print(f\"Best R2-score: {grid_search.best_score_:.2f}\")\n",
    "#ser ikke ut til å bli bedre...."
   ]
  },
  {
   "cell_type": "code",
   "execution_count": 29,
   "id": "d964922f",
   "metadata": {
    "execution": {
     "iopub.execute_input": "2023-04-23T22:54:45.295261Z",
     "iopub.status.busy": "2023-04-23T22:54:45.294611Z",
     "iopub.status.idle": "2023-04-23T22:54:45.313792Z",
     "shell.execute_reply": "2023-04-23T22:54:45.312871Z"
    },
    "papermill": {
     "duration": 0.035175,
     "end_time": "2023-04-23T22:54:45.316430",
     "exception": false,
     "start_time": "2023-04-23T22:54:45.281255",
     "status": "completed"
    },
    "tags": []
   },
   "outputs": [],
   "source": [
    "y_pred = model.predict(X_test)"
   ]
  },
  {
   "cell_type": "code",
   "execution_count": 30,
   "id": "fc79b70a",
   "metadata": {
    "execution": {
     "iopub.execute_input": "2023-04-23T22:54:45.343404Z",
     "iopub.status.busy": "2023-04-23T22:54:45.342652Z",
     "iopub.status.idle": "2023-04-23T22:54:45.352306Z",
     "shell.execute_reply": "2023-04-23T22:54:45.350800Z"
    },
    "papermill": {
     "duration": 0.027041,
     "end_time": "2023-04-23T22:54:45.355526",
     "exception": false,
     "start_time": "2023-04-23T22:54:45.328485",
     "status": "completed"
    },
    "tags": []
   },
   "outputs": [
    {
     "name": "stdout",
     "output_type": "stream",
     "text": [
      "R2-score: 1.00\n",
      "Mean Squared Error: 0.00\n",
      "Mean Absolute Error: 0.01\n"
     ]
    }
   ],
   "source": [
    "r2 = r2_score(y_test, y_pred)\n",
    "mse = mean_squared_error(y_test, y_pred)\n",
    "mae = mean_absolute_error(y_test, y_pred)\n",
    "\n",
    "print(f\"R2-score: {r2:.2f}\")\n",
    "print(f\"Mean Squared Error: {mse:.2f}\")\n",
    "print(f\"Mean Absolute Error: {mae:.2f}\")"
   ]
  }
 ],
 "metadata": {
  "kernelspec": {
   "display_name": "Python 3",
   "language": "python",
   "name": "python3"
  },
  "language_info": {
   "codemirror_mode": {
    "name": "ipython",
    "version": 3
   },
   "file_extension": ".py",
   "mimetype": "text/x-python",
   "name": "python",
   "nbconvert_exporter": "python",
   "pygments_lexer": "ipython3",
   "version": "3.7.12"
  },
  "papermill": {
   "default_parameters": {},
   "duration": 50.780151,
   "end_time": "2023-04-23T22:54:48.267367",
   "environment_variables": {},
   "exception": null,
   "input_path": "__notebook__.ipynb",
   "output_path": "__notebook__.ipynb",
   "parameters": {},
   "start_time": "2023-04-23T22:53:57.487216",
   "version": "2.4.0"
  }
 },
 "nbformat": 4,
 "nbformat_minor": 5
}
